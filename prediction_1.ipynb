{
  "cells": [
    {
      "cell_type": "markdown",
      "metadata": {
        "id": "view-in-github",
        "colab_type": "text"
      },
      "source": [
        "<a href=\"https://colab.research.google.com/github/pranavirohit/cancer-drug-discovery/blob/main/prediction_1.ipynb\" target=\"_parent\"><img src=\"https://colab.research.google.com/assets/colab-badge.svg\" alt=\"Open In Colab\"/></a>"
      ]
    },
    {
      "cell_type": "markdown",
      "metadata": {
        "id": "fp21ZTJcTOlt"
      },
      "source": [
        "# Initialization"
      ]
    },
    {
      "cell_type": "code",
      "execution_count": null,
      "metadata": {
        "id": "jPPt7coJSJIv",
        "colab": {
          "base_uri": "https://localhost:8080/"
        },
        "outputId": "e78c7298-d395-4e05-eed8-3bfb0eb0b8d6"
      },
      "outputs": [
        {
          "output_type": "stream",
          "name": "stdout",
          "text": [
            "Mounted at /content/drive\n"
          ]
        }
      ],
      "source": [
        "from google.colab import drive\n",
        "drive.mount('/content/drive', force_remount = True)"
      ]
    },
    {
      "cell_type": "code",
      "execution_count": null,
      "metadata": {
        "id": "KbZ9OUAnSMLS"
      },
      "outputs": [],
      "source": [
        "import pandas as pd\n",
        "import numpy as np\n",
        "import matplotlib.pyplot as plt\n",
        "import seaborn as sns\n",
        "from scipy import stats"
      ]
    },
    {
      "cell_type": "code",
      "execution_count": null,
      "metadata": {
        "id": "gI2gGiPwjcNI"
      },
      "outputs": [],
      "source": [
        "from numpy import vstack"
      ]
    },
    {
      "cell_type": "markdown",
      "metadata": {
        "id": "AIljqb1HEcnP"
      },
      "source": [
        "## PyTorch"
      ]
    },
    {
      "cell_type": "code",
      "execution_count": null,
      "metadata": {
        "id": "eHB-uOknJ-qq"
      },
      "outputs": [],
      "source": [
        "import torch\n",
        "import torch.nn as nn\n",
        "from torch.utils.data import Dataset\n",
        "from torchvision import datasets\n",
        "from torchvision.transforms import ToTensor"
      ]
    },
    {
      "cell_type": "code",
      "execution_count": null,
      "metadata": {
        "id": "fn0w6vpEjRwq"
      },
      "outputs": [],
      "source": [
        "from torch.utils.data import DataLoader\n",
        "from torch.nn import ReLU\n",
        "from torch.nn import Sigmoid"
      ]
    },
    {
      "cell_type": "code",
      "execution_count": null,
      "metadata": {
        "id": "51wr4pHHAUVY"
      },
      "outputs": [],
      "source": [
        "from torch.utils.data import TensorDataset"
      ]
    },
    {
      "cell_type": "markdown",
      "metadata": {
        "id": "_B-trmWjEitE"
      },
      "source": [
        "## Sklearn"
      ]
    },
    {
      "cell_type": "code",
      "execution_count": null,
      "metadata": {
        "id": "2WhBRjPHjaLX"
      },
      "outputs": [],
      "source": [
        "import sklearn as sk\n",
        "from sklearn.preprocessing import LabelEncoder\n",
        "from sklearn.model_selection import train_test_split"
      ]
    },
    {
      "cell_type": "markdown",
      "metadata": {
        "id": "agg-oCmLEpEQ"
      },
      "source": [
        "## TensorFlow"
      ]
    },
    {
      "cell_type": "code",
      "execution_count": null,
      "metadata": {
        "id": "r_BIhMZNEaJO"
      },
      "outputs": [],
      "source": [
        "import tensorflow as tf\n",
        "from tensorflow import keras\n",
        "from keras import layers as L"
      ]
    },
    {
      "cell_type": "markdown",
      "metadata": {
        "id": "5D74Nrm1gMYL"
      },
      "source": [
        "# Preparing Input Data (1)"
      ]
    },
    {
      "cell_type": "code",
      "execution_count": null,
      "metadata": {
        "id": "rBYot3OViejh"
      },
      "outputs": [],
      "source": [
        "drug_rp_repurposing_2 = pd.read_csv('/content/drive/MyDrive/Data/drug_rp_repurposing_2.csv')"
      ]
    },
    {
      "cell_type": "code",
      "execution_count": null,
      "metadata": {
        "colab": {
          "base_uri": "https://localhost:8080/"
        },
        "id": "aqB5azdQTTSA",
        "outputId": "390f05b5-6170-4877-e9aa-d190d83a747e"
      },
      "outputs": [
        {
          "output_type": "stream",
          "name": "stdout",
          "text": [
            "(2427, 3)\n",
            "(2418, 3)\n"
          ]
        }
      ],
      "source": [
        "# Printing original number of drugs.\n",
        "print(drug_rp_repurposing_2.shape)\n",
        "\n",
        "# Eliminating all drugs without a SMILES code.\n",
        "drug_rp_repurposing_2.Smiles = drug_rp_repurposing_2.Smiles.replace('nan', np.nan)\n",
        "drug_rp_repurposing_2 = drug_rp_repurposing_2[drug_rp_repurposing_2['Smiles'].notna()]\n",
        "\n",
        "# Printing updated number of drugs.\n",
        "print(drug_rp_repurposing_2.shape)"
      ]
    },
    {
      "cell_type": "markdown",
      "source": [
        "### SMILES Encoding & Flattening"
      ],
      "metadata": {
        "id": "FM0mOfg77qS-"
      }
    },
    {
      "cell_type": "code",
      "execution_count": null,
      "metadata": {
        "id": "WFyOnWGOSmE1"
      },
      "outputs": [],
      "source": [
        "# Defining SMILES characters (assigning a number value to each character).\n",
        "SMILES_CHARS = [' ',\n",
        "                '#', '%', '(', ')', '+', '-', '.', '/',\n",
        "                '0', '1', '2', '3', '4', '5', '6', '7', '8', '9',\n",
        "                '=', '@',\n",
        "                'A', 'B', 'C', 'F', 'H', 'I', 'K', 'L', 'M', 'N', 'O', 'P',\n",
        "                'R', 'S', 'T', 'V', 'X', 'Z',\n",
        "                '[', '\\\\', ']',\n",
        "                'a', 'b', 'c', 'e', 'g', 'i', 'l', 'n', 'o', 'p', 'r', 's',\n",
        "                't', 'u']"
      ]
    },
    {
      "cell_type": "code",
      "source": [
        "smi2index = dict((c,i) for i,c in enumerate( SMILES_CHARS ))\n",
        "index2smi = dict((i,c) for i,c in enumerate( SMILES_CHARS ))"
      ],
      "metadata": {
        "id": "iHXG_zU27ifi"
      },
      "execution_count": null,
      "outputs": []
    },
    {
      "cell_type": "code",
      "source": [
        "# Defining encoder to create arrays from SMILES code.\n",
        "def smiles_encoder(smiles, maxlen=100):\n",
        "    X = np.zeros( ( maxlen, len( SMILES_CHARS ) ) )\n",
        "    for i, c in enumerate( smiles ):\n",
        "        X[i, smi2index[c] ] = 1\n",
        "    return X\n",
        "\n",
        "def flat_smiles_encoder(smiles, maxlen = 80):\n",
        "    try:\n",
        "        X = smiles_encoder(smiles, maxlen)\n",
        "        X = X.flatten()\n",
        "    except:\n",
        "        X = np.NaN\n",
        "    return (X)"
      ],
      "metadata": {
        "id": "ppHQV97c7hgQ"
      },
      "execution_count": null,
      "outputs": []
    },
    {
      "cell_type": "code",
      "execution_count": null,
      "metadata": {
        "id": "Yt0xFkRcRxL4"
      },
      "outputs": [],
      "source": [
        "drug_rp_repurposing_2['len_smiles'] = drug_rp_repurposing_2.Smiles.apply(lambda x: len(str(x)))"
      ]
    },
    {
      "cell_type": "code",
      "execution_count": null,
      "metadata": {
        "colab": {
          "base_uri": "https://localhost:8080/",
          "height": 298
        },
        "id": "XnQiSFWVR2fa",
        "outputId": "995bd3e4-a5ee-4977-93e7-446b492439bd"
      },
      "outputs": [
        {
          "output_type": "execute_result",
          "data": {
            "text/plain": [
              "<AxesSubplot:xlabel='len_smiles', ylabel='Count'>"
            ]
          },
          "metadata": {},
          "execution_count": 15
        },
        {
          "output_type": "display_data",
          "data": {
            "text/plain": [
              "<Figure size 432x288 with 1 Axes>"
            ],
            "image/png": "[encoded data removed]"
          },
          "metadata": {
            "needs_background": "light"
          }
        }
      ],
      "source": [
        "sns.histplot(drug_rp_repurposing_2.len_smiles)"
      ]
    },
    {
      "cell_type": "code",
      "execution_count": null,
      "metadata": {
        "colab": {
          "base_uri": "https://localhost:8080/"
        },
        "id": "lBk7qiykR-qG",
        "outputId": "c53e43fd-553b-4766-b873-06525f19c9ea"
      },
      "outputs": [
        {
          "output_type": "execute_result",
          "data": {
            "text/plain": [
              "(2034, 4)"
            ]
          },
          "metadata": {},
          "execution_count": 16
        }
      ],
      "source": [
        "# Restricting the length of the SMILES strings to 80 characters (due to computating power limits).\n",
        "drug_rp_repurposing_2 = drug_rp_repurposing_2[drug_rp_repurposing_2['len_smiles'] <= 80]\n",
        "drug_rp_repurposing_2.shape"
      ]
    },
    {
      "cell_type": "code",
      "execution_count": null,
      "metadata": {
        "id": "74Kq1xDESI0t"
      },
      "outputs": [],
      "source": [
        "# Verifying longest SMILES string is 80 characters.\n",
        "max_length = max(drug_rp_repurposing_2.len_smiles)"
      ]
    },
    {
      "cell_type": "code",
      "execution_count": null,
      "metadata": {
        "colab": {
          "base_uri": "https://localhost:8080/"
        },
        "id": "nPQ8zL1SSMlO",
        "outputId": "001cc2d8-1ba2-4c67-fa0e-f88face1ac5f"
      },
      "outputs": [
        {
          "output_type": "stream",
          "name": "stdout",
          "text": [
            "(2034, 5)\n",
            "(2029, 5)\n"
          ]
        }
      ],
      "source": [
        "drug_rp_repurposing_2['smiles_flat'] = drug_rp_repurposing_2.Smiles.apply(flat_smiles_encoder,  maxlen = 100)\n",
        "print(drug_rp_repurposing_2.shape)\n",
        "drug_rp_repurposing_2 = drug_rp_repurposing_2[drug_rp_repurposing_2['smiles_flat'].notna()]\n",
        "print(drug_rp_repurposing_2.shape)"
      ]
    },
    {
      "cell_type": "code",
      "execution_count": null,
      "metadata": {
        "colab": {
          "base_uri": "https://localhost:8080/",
          "height": 814
        },
        "id": "gpTroCpWSX1L",
        "outputId": "80225728-f3da-4325-8bae-88e9cc766ffb"
      },
      "outputs": [
        {
          "output_type": "display_data",
          "data": {
            "text/plain": [
              "                       Name  \\\n",
              "0       (R)-(-)-apomorphine   \n",
              "1                  abacavir   \n",
              "3               abemaciclib   \n",
              "4               abiraterone   \n",
              "5       abiraterone-acetate   \n",
              "...                     ...   \n",
              "2422   4-aminohippuric-acid   \n",
              "2423  5-aminolevulinic-acid   \n",
              "2424         5-fluorouracil   \n",
              "2425    5-hydroxytryptophan   \n",
              "2426            7-keto-DHEA   \n",
              "\n",
              "                                                 Smiles  status  len_smiles  \\\n",
              "0                CN1CCc2cccc-3c2[C@H]1Cc1ccc(O)c(O)c-31   False          38   \n",
              "1         Nc1nc(NC2CC2)c2ncn([C@@H]3C[C@H](CO)C=C3)c2n1   False          45   \n",
              "3     CCN1CCN(Cc2ccc(Nc3ncc(F)c(n3)-c3cc(F)c4nc(C)n(...    True          64   \n",
              "4     C[C@]12CC[C@H]3[C@@H](CC=C4C[C@@H](O)CC[C@]34C...    True          67   \n",
              "5     CC(=O)O[C@H]1CC[C@]2(C)[C@H]3CC[C@@]4(C)[C@@H]...    True          75   \n",
              "...                                                 ...     ...         ...   \n",
              "2422                           Nc1ccc(cc1)C(=O)NCC(O)=O   False          24   \n",
              "2423                                    NCC(=O)CCC(O)=O   False          15   \n",
              "2424                              Fc1c[nH]c(=O)[nH]c1=O    True          21   \n",
              "2425                N[C@@H](Cc1c[nH]c2ccc(O)cc12)C(O)=O   False          35   \n",
              "2426  CC(=O)O[C@H]1CC[C@]2(C)[C@H]3CC[C@@]4(C)[C@@H]...   False          72   \n",
              "\n",
              "                                            smiles_flat  \n",
              "0     [0.0, 0.0, 0.0, 0.0, 0.0, 0.0, 0.0, 0.0, 0.0, ...  \n",
              "1     [0.0, 0.0, 0.0, 0.0, 0.0, 0.0, 0.0, 0.0, 0.0, ...  \n",
              "3     [0.0, 0.0, 0.0, 0.0, 0.0, 0.0, 0.0, 0.0, 0.0, ...  \n",
              "4     [0.0, 0.0, 0.0, 0.0, 0.0, 0.0, 0.0, 0.0, 0.0, ...  \n",
              "5     [0.0, 0.0, 0.0, 0.0, 0.0, 0.0, 0.0, 0.0, 0.0, ...  \n",
              "...                                                 ...  \n",
              "2422  [0.0, 0.0, 0.0, 0.0, 0.0, 0.0, 0.0, 0.0, 0.0, ...  \n",
              "2423  [0.0, 0.0, 0.0, 0.0, 0.0, 0.0, 0.0, 0.0, 0.0, ...  \n",
              "2424  [0.0, 0.0, 0.0, 0.0, 0.0, 0.0, 0.0, 0.0, 0.0, ...  \n",
              "2425  [0.0, 0.0, 0.0, 0.0, 0.0, 0.0, 0.0, 0.0, 0.0, ...  \n",
              "2426  [0.0, 0.0, 0.0, 0.0, 0.0, 0.0, 0.0, 0.0, 0.0, ...  \n",
              "\n",
              "[2029 rows x 5 columns]"
            ],
            "text/html": [
              "\n",
              "  <div id=\"df-a0e0a86d-9e50-42fe-8e10-6f31f0ce5ae8\">\n",
              "    <div class=\"colab-df-container\">\n",
              "      <div>\n",
              "<style scoped>\n",
              "    .dataframe tbody tr th:only-of-type {\n",
              "        vertical-align: middle;\n",
              "    }\n",
              "\n",
              "    .dataframe tbody tr th {\n",
              "        vertical-align: top;\n",
              "    }\n",
              "\n",
              "    .dataframe thead th {\n",
              "        text-align: right;\n",
              "    }\n",
              "</style>\n",
              "<table border=\"1\" class=\"dataframe\">\n",
              "  <thead>\n",
              "    <tr style=\"text-align: right;\">\n",
              "      <th></th>\n",
              "      <th>Name</th>\n",
              "      <th>Smiles</th>\n",
              "      <th>status</th>\n",
              "      <th>len_smiles</th>\n",
              "      <th>smiles_flat</th>\n",
              "    </tr>\n",
              "  </thead>\n",
              "  <tbody>\n",
              "    <tr>\n",
              "      <th>0</th>\n",
              "      <td>(R)-(-)-apomorphine</td>\n",
              "      <td>CN1CCc2cccc-3c2[C@H]1Cc1ccc(O)c(O)c-31</td>\n",
              "      <td>False</td>\n",
              "      <td>38</td>\n",
              "      <td>[0.0, 0.0, 0.0, 0.0, 0.0, 0.0, 0.0, 0.0, 0.0, ...</td>\n",
              "    </tr>\n",
              "    <tr>\n",
              "      <th>1</th>\n",
              "      <td>abacavir</td>\n",
              "      <td>Nc1nc(NC2CC2)c2ncn([C@@H]3C[C@H](CO)C=C3)c2n1</td>\n",
              "      <td>False</td>\n",
              "      <td>45</td>\n",
              "      <td>[0.0, 0.0, 0.0, 0.0, 0.0, 0.0, 0.0, 0.0, 0.0, ...</td>\n",
              "    </tr>\n",
              "    <tr>\n",
              "      <th>3</th>\n",
              "      <td>abemaciclib</td>\n",
              "      <td>CCN1CCN(Cc2ccc(Nc3ncc(F)c(n3)-c3cc(F)c4nc(C)n(...</td>\n",
              "      <td>True</td>\n",
              "      <td>64</td>\n",
              "      <td>[0.0, 0.0, 0.0, 0.0, 0.0, 0.0, 0.0, 0.0, 0.0, ...</td>\n",
              "    </tr>\n",
              "    <tr>\n",
              "      <th>4</th>\n",
              "      <td>abiraterone</td>\n",
              "      <td>C[C@]12CC[C@H]3[C@@H](CC=C4C[C@@H](O)CC[C@]34C...</td>\n",
              "      <td>True</td>\n",
              "      <td>67</td>\n",
              "      <td>[0.0, 0.0, 0.0, 0.0, 0.0, 0.0, 0.0, 0.0, 0.0, ...</td>\n",
              "    </tr>\n",
              "    <tr>\n",
              "      <th>5</th>\n",
              "      <td>abiraterone-acetate</td>\n",
              "      <td>CC(=O)O[C@H]1CC[C@]2(C)[C@H]3CC[C@@]4(C)[C@@H]...</td>\n",
              "      <td>True</td>\n",
              "      <td>75</td>\n",
              "      <td>[0.0, 0.0, 0.0, 0.0, 0.0, 0.0, 0.0, 0.0, 0.0, ...</td>\n",
              "    </tr>\n",
              "    <tr>\n",
              "      <th>...</th>\n",
              "      <td>...</td>\n",
              "      <td>...</td>\n",
              "      <td>...</td>\n",
              "      <td>...</td>\n",
              "      <td>...</td>\n",
              "    </tr>\n",
              "    <tr>\n",
              "      <th>2422</th>\n",
              "      <td>4-aminohippuric-acid</td>\n",
              "      <td>Nc1ccc(cc1)C(=O)NCC(O)=O</td>\n",
              "      <td>False</td>\n",
              "      <td>24</td>\n",
              "      <td>[0.0, 0.0, 0.0, 0.0, 0.0, 0.0, 0.0, 0.0, 0.0, ...</td>\n",
              "    </tr>\n",
              "    <tr>\n",
              "      <th>2423</th>\n",
              "      <td>5-aminolevulinic-acid</td>\n",
              "      <td>NCC(=O)CCC(O)=O</td>\n",
              "      <td>False</td>\n",
              "      <td>15</td>\n",
              "      <td>[0.0, 0.0, 0.0, 0.0, 0.0, 0.0, 0.0, 0.0, 0.0, ...</td>\n",
              "    </tr>\n",
              "    <tr>\n",
              "      <th>2424</th>\n",
              "      <td>5-fluorouracil</td>\n",
              "      <td>Fc1c[nH]c(=O)[nH]c1=O</td>\n",
              "      <td>True</td>\n",
              "      <td>21</td>\n",
              "      <td>[0.0, 0.0, 0.0, 0.0, 0.0, 0.0, 0.0, 0.0, 0.0, ...</td>\n",
              "    </tr>\n",
              "    <tr>\n",
              "      <th>2425</th>\n",
              "      <td>5-hydroxytryptophan</td>\n",
              "      <td>N[C@@H](Cc1c[nH]c2ccc(O)cc12)C(O)=O</td>\n",
              "      <td>False</td>\n",
              "      <td>35</td>\n",
              "      <td>[0.0, 0.0, 0.0, 0.0, 0.0, 0.0, 0.0, 0.0, 0.0, ...</td>\n",
              "    </tr>\n",
              "    <tr>\n",
              "      <th>2426</th>\n",
              "      <td>7-keto-DHEA</td>\n",
              "      <td>CC(=O)O[C@H]1CC[C@]2(C)[C@H]3CC[C@@]4(C)[C@@H]...</td>\n",
              "      <td>False</td>\n",
              "      <td>72</td>\n",
              "      <td>[0.0, 0.0, 0.0, 0.0, 0.0, 0.0, 0.0, 0.0, 0.0, ...</td>\n",
              "    </tr>\n",
              "  </tbody>\n",
              "</table>\n",
              "<p>2029 rows × 5 columns</p>\n",
              "</div>\n",
              "      <button class=\"colab-df-convert\" onclick=\"convertToInteractive('df-a0e0a86d-9e50-42fe-8e10-6f31f0ce5ae8')\"\n",
              "              title=\"Convert this dataframe to an interactive table.\"\n",
              "              style=\"display:none;\">\n",
              "        \n",
              "  <svg xmlns=\"http://www.w3.org/2000/svg\" height=\"24px\"viewBox=\"0 0 24 24\"\n",
              "       width=\"24px\">\n",
              "    <path d=\"M0 0h24v24H0V0z\" fill=\"none\"/>\n",
              "    <path d=\"M18.56 5.44l.94 2.06.94-2.06 2.06-.94-2.06-.94-.94-2.06-.94 2.06-2.06.94zm-11 1L8.5 8.5l.94-2.06 2.06-.94-2.06-.94L8.5 2.5l-.94 2.06-2.06.94zm10 10l.94 2.06.94-2.06 2.06-.94-2.06-.94-.94-2.06-.94 2.06-2.06.94z\"/><path d=\"M17.41 7.96l-1.37-1.37c-.4-.4-.92-.59-1.43-.59-.52 0-1.04.2-1.43.59L10.3 9.45l-7.72 7.72c-.78.78-.78 2.05 0 2.83L4 21.41c.39.39.9.59 1.41.59.51 0 1.02-.2 1.41-.59l7.78-7.78 2.81-2.81c.8-.78.8-2.07 0-2.86zM5.41 20L4 18.59l7.72-7.72 1.47 1.35L5.41 20z\"/>\n",
              "  </svg>\n",
              "      </button>\n",
              "      \n",
              "  <style>\n",
              "    .colab-df-container {\n",
              "      display:flex;\n",
              "      flex-wrap:wrap;\n",
              "      gap: 12px;\n",
              "    }\n",
              "\n",
              "    .colab-df-convert {\n",
              "      background-color: #E8F0FE;\n",
              "      border: none;\n",
              "      border-radius: 50%;\n",
              "      cursor: pointer;\n",
              "      display: none;\n",
              "      fill: #1967D2;\n",
              "      height: 32px;\n",
              "      padding: 0 0 0 0;\n",
              "      width: 32px;\n",
              "    }\n",
              "\n",
              "    .colab-df-convert:hover {\n",
              "      background-color: #E2EBFA;\n",
              "      box-shadow: 0px 1px 2px rgba(60, 64, 67, 0.3), 0px 1px 3px 1px rgba(60, 64, 67, 0.15);\n",
              "      fill: #174EA6;\n",
              "    }\n",
              "\n",
              "    [theme=dark] .colab-df-convert {\n",
              "      background-color: #3B4455;\n",
              "      fill: #D2E3FC;\n",
              "    }\n",
              "\n",
              "    [theme=dark] .colab-df-convert:hover {\n",
              "      background-color: #434B5C;\n",
              "      box-shadow: 0px 1px 3px 1px rgba(0, 0, 0, 0.15);\n",
              "      filter: drop-shadow(0px 1px 2px rgba(0, 0, 0, 0.3));\n",
              "      fill: #FFFFFF;\n",
              "    }\n",
              "  </style>\n",
              "\n",
              "      <script>\n",
              "        const buttonEl =\n",
              "          document.querySelector('#df-a0e0a86d-9e50-42fe-8e10-6f31f0ce5ae8 button.colab-df-convert');\n",
              "        buttonEl.style.display =\n",
              "          google.colab.kernel.accessAllowed ? 'block' : 'none';\n",
              "\n",
              "        async function convertToInteractive(key) {\n",
              "          const element = document.querySelector('#df-a0e0a86d-9e50-42fe-8e10-6f31f0ce5ae8');\n",
              "          const dataTable =\n",
              "            await google.colab.kernel.invokeFunction('convertToInteractive',\n",
              "                                                     [key], {});\n",
              "          if (!dataTable) return;\n",
              "\n",
              "          const docLinkHtml = 'Like what you see? Visit the ' +\n",
              "            '<a target=\"_blank\" href=https://colab.research.google.com/notebooks/data_table.ipynb>data table notebook</a>'\n",
              "            + ' to learn more about interactive tables.';\n",
              "          element.innerHTML = '';\n",
              "          dataTable['output_type'] = 'display_data';\n",
              "          await google.colab.output.renderOutput(dataTable, element);\n",
              "          const docLink = document.createElement('div');\n",
              "          docLink.innerHTML = docLinkHtml;\n",
              "          element.appendChild(docLink);\n",
              "        }\n",
              "      </script>\n",
              "    </div>\n",
              "  </div>\n",
              "  "
            ]
          },
          "metadata": {}
        }
      ],
      "source": [
        "display(drug_rp_repurposing_2)"
      ]
    },
    {
      "cell_type": "code",
      "execution_count": null,
      "metadata": {
        "colab": {
          "base_uri": "https://localhost:8080/"
        },
        "id": "__u88WiGNLsB",
        "outputId": "38a0873e-3976-4da8-89bf-57d568340d67"
      },
      "outputs": [
        {
          "output_type": "execute_result",
          "data": {
            "text/plain": [
              "5600"
            ]
          },
          "metadata": {},
          "execution_count": 20
        }
      ],
      "source": [
        "len(drug_rp_repurposing_2.smiles_flat[0])"
      ]
    },
    {
      "cell_type": "code",
      "execution_count": null,
      "metadata": {
        "id": "OYxHiRnUShti"
      },
      "outputs": [],
      "source": [
        "# Saving the information from the smiles_flat column to an array.\n",
        "np.save('/content/drive/MyDrive/Data/smiles_drug_rp_full.npy', np.array(np.array(drug_rp_repurposing_2['smiles_flat'].to_list()), dtype = object), allow_pickle = True)\n",
        "\n",
        "# Saving the information from the Name column to an array.\n",
        "np.save('/content/drive/MyDrive/Data/id_drug_rp_full.npy', np.array(np.array(drug_rp_repurposing_2['Name'].to_list()), dtype = object), allow_pickle = True)\n",
        "\n",
        "# Saving the information from the status column to an array.\n",
        "np.save('/content/drive/MyDrive/Data/status_drug_rp_full.npy', np.array(np.array(drug_rp_repurposing_2['status'].to_list()), dtype = object), allow_pickle = True)"
      ]
    },
    {
      "cell_type": "code",
      "execution_count": null,
      "metadata": {
        "id": "PKGUaojIJeFB"
      },
      "outputs": [],
      "source": [
        "drug_rp_repurposing_2_smiles = np.load('/content/drive/MyDrive/Data/smiles_drug_rp_full.npy', allow_pickle=True)\n",
        "drug_rp_repurposing_2_id = np.load('/content/drive/MyDrive/Data/id_drug_rp_full.npy', allow_pickle=True)\n",
        "drug_rp_repurposing_2_status = np.load('/content/drive/MyDrive/Data/status_drug_rp_full.npy', allow_pickle=True)"
      ]
    },
    {
      "cell_type": "code",
      "execution_count": null,
      "metadata": {
        "colab": {
          "base_uri": "https://localhost:8080/"
        },
        "id": "aHkQFudyLFB5",
        "outputId": "4a8339b6-e13f-41b7-9214-47c0259f8763"
      },
      "outputs": [
        {
          "output_type": "execute_result",
          "data": {
            "text/plain": [
              "array([[0.0, 0.0, 0.0, ..., 0.0, 0.0, 0.0],\n",
              "       [0.0, 0.0, 0.0, ..., 0.0, 0.0, 0.0],\n",
              "       [0.0, 0.0, 0.0, ..., 0.0, 0.0, 0.0],\n",
              "       ...,\n",
              "       [0.0, 0.0, 0.0, ..., 0.0, 0.0, 0.0],\n",
              "       [0.0, 0.0, 0.0, ..., 0.0, 0.0, 0.0],\n",
              "       [0.0, 0.0, 0.0, ..., 0.0, 0.0, 0.0]], dtype=object)"
            ]
          },
          "metadata": {},
          "execution_count": 23
        }
      ],
      "source": [
        "drug_rp_repurposing_2_smiles"
      ]
    },
    {
      "cell_type": "code",
      "execution_count": null,
      "metadata": {
        "colab": {
          "base_uri": "https://localhost:8080/",
          "height": 423
        },
        "id": "AWmCXTQ0WJrT",
        "outputId": "7759853a-3327-4412-e436-a5ac86270f35"
      },
      "outputs": [
        {
          "output_type": "execute_result",
          "data": {
            "text/plain": [
              "                       Name Actual Status\n",
              "0       (R)-(-)-apomorphine         False\n",
              "1                  abacavir         False\n",
              "2               abemaciclib          True\n",
              "3               abiraterone          True\n",
              "4       abiraterone-acetate          True\n",
              "...                     ...           ...\n",
              "2024   4-aminohippuric-acid         False\n",
              "2025  5-aminolevulinic-acid         False\n",
              "2026         5-fluorouracil          True\n",
              "2027    5-hydroxytryptophan         False\n",
              "2028            7-keto-DHEA         False\n",
              "\n",
              "[2029 rows x 2 columns]"
            ],
            "text/html": [
              "\n",
              "  <div id=\"df-cd76b5de-ace2-4cba-b56c-35016280f1a6\">\n",
              "    <div class=\"colab-df-container\">\n",
              "      <div>\n",
              "<style scoped>\n",
              "    .dataframe tbody tr th:only-of-type {\n",
              "        vertical-align: middle;\n",
              "    }\n",
              "\n",
              "    .dataframe tbody tr th {\n",
              "        vertical-align: top;\n",
              "    }\n",
              "\n",
              "    .dataframe thead th {\n",
              "        text-align: right;\n",
              "    }\n",
              "</style>\n",
              "<table border=\"1\" class=\"dataframe\">\n",
              "  <thead>\n",
              "    <tr style=\"text-align: right;\">\n",
              "      <th></th>\n",
              "      <th>Name</th>\n",
              "      <th>Actual Status</th>\n",
              "    </tr>\n",
              "  </thead>\n",
              "  <tbody>\n",
              "    <tr>\n",
              "      <th>0</th>\n",
              "      <td>(R)-(-)-apomorphine</td>\n",
              "      <td>False</td>\n",
              "    </tr>\n",
              "    <tr>\n",
              "      <th>1</th>\n",
              "      <td>abacavir</td>\n",
              "      <td>False</td>\n",
              "    </tr>\n",
              "    <tr>\n",
              "      <th>2</th>\n",
              "      <td>abemaciclib</td>\n",
              "      <td>True</td>\n",
              "    </tr>\n",
              "    <tr>\n",
              "      <th>3</th>\n",
              "      <td>abiraterone</td>\n",
              "      <td>True</td>\n",
              "    </tr>\n",
              "    <tr>\n",
              "      <th>4</th>\n",
              "      <td>abiraterone-acetate</td>\n",
              "      <td>True</td>\n",
              "    </tr>\n",
              "    <tr>\n",
              "      <th>...</th>\n",
              "      <td>...</td>\n",
              "      <td>...</td>\n",
              "    </tr>\n",
              "    <tr>\n",
              "      <th>2024</th>\n",
              "      <td>4-aminohippuric-acid</td>\n",
              "      <td>False</td>\n",
              "    </tr>\n",
              "    <tr>\n",
              "      <th>2025</th>\n",
              "      <td>5-aminolevulinic-acid</td>\n",
              "      <td>False</td>\n",
              "    </tr>\n",
              "    <tr>\n",
              "      <th>2026</th>\n",
              "      <td>5-fluorouracil</td>\n",
              "      <td>True</td>\n",
              "    </tr>\n",
              "    <tr>\n",
              "      <th>2027</th>\n",
              "      <td>5-hydroxytryptophan</td>\n",
              "      <td>False</td>\n",
              "    </tr>\n",
              "    <tr>\n",
              "      <th>2028</th>\n",
              "      <td>7-keto-DHEA</td>\n",
              "      <td>False</td>\n",
              "    </tr>\n",
              "  </tbody>\n",
              "</table>\n",
              "<p>2029 rows × 2 columns</p>\n",
              "</div>\n",
              "      <button class=\"colab-df-convert\" onclick=\"convertToInteractive('df-cd76b5de-ace2-4cba-b56c-35016280f1a6')\"\n",
              "              title=\"Convert this dataframe to an interactive table.\"\n",
              "              style=\"display:none;\">\n",
              "        \n",
              "  <svg xmlns=\"http://www.w3.org/2000/svg\" height=\"24px\"viewBox=\"0 0 24 24\"\n",
              "       width=\"24px\">\n",
              "    <path d=\"M0 0h24v24H0V0z\" fill=\"none\"/>\n",
              "    <path d=\"M18.56 5.44l.94 2.06.94-2.06 2.06-.94-2.06-.94-.94-2.06-.94 2.06-2.06.94zm-11 1L8.5 8.5l.94-2.06 2.06-.94-2.06-.94L8.5 2.5l-.94 2.06-2.06.94zm10 10l.94 2.06.94-2.06 2.06-.94-2.06-.94-.94-2.06-.94 2.06-2.06.94z\"/><path d=\"M17.41 7.96l-1.37-1.37c-.4-.4-.92-.59-1.43-.59-.52 0-1.04.2-1.43.59L10.3 9.45l-7.72 7.72c-.78.78-.78 2.05 0 2.83L4 21.41c.39.39.9.59 1.41.59.51 0 1.02-.2 1.41-.59l7.78-7.78 2.81-2.81c.8-.78.8-2.07 0-2.86zM5.41 20L4 18.59l7.72-7.72 1.47 1.35L5.41 20z\"/>\n",
              "  </svg>\n",
              "      </button>\n",
              "      \n",
              "  <style>\n",
              "    .colab-df-container {\n",
              "      display:flex;\n",
              "      flex-wrap:wrap;\n",
              "      gap: 12px;\n",
              "    }\n",
              "\n",
              "    .colab-df-convert {\n",
              "      background-color: #E8F0FE;\n",
              "      border: none;\n",
              "      border-radius: 50%;\n",
              "      cursor: pointer;\n",
              "      display: none;\n",
              "      fill: #1967D2;\n",
              "      height: 32px;\n",
              "      padding: 0 0 0 0;\n",
              "      width: 32px;\n",
              "    }\n",
              "\n",
              "    .colab-df-convert:hover {\n",
              "      background-color: #E2EBFA;\n",
              "      box-shadow: 0px 1px 2px rgba(60, 64, 67, 0.3), 0px 1px 3px 1px rgba(60, 64, 67, 0.15);\n",
              "      fill: #174EA6;\n",
              "    }\n",
              "\n",
              "    [theme=dark] .colab-df-convert {\n",
              "      background-color: #3B4455;\n",
              "      fill: #D2E3FC;\n",
              "    }\n",
              "\n",
              "    [theme=dark] .colab-df-convert:hover {\n",
              "      background-color: #434B5C;\n",
              "      box-shadow: 0px 1px 3px 1px rgba(0, 0, 0, 0.15);\n",
              "      filter: drop-shadow(0px 1px 2px rgba(0, 0, 0, 0.3));\n",
              "      fill: #FFFFFF;\n",
              "    }\n",
              "  </style>\n",
              "\n",
              "      <script>\n",
              "        const buttonEl =\n",
              "          document.querySelector('#df-cd76b5de-ace2-4cba-b56c-35016280f1a6 button.colab-df-convert');\n",
              "        buttonEl.style.display =\n",
              "          google.colab.kernel.accessAllowed ? 'block' : 'none';\n",
              "\n",
              "        async function convertToInteractive(key) {\n",
              "          const element = document.querySelector('#df-cd76b5de-ace2-4cba-b56c-35016280f1a6');\n",
              "          const dataTable =\n",
              "            await google.colab.kernel.invokeFunction('convertToInteractive',\n",
              "                                                     [key], {});\n",
              "          if (!dataTable) return;\n",
              "\n",
              "          const docLinkHtml = 'Like what you see? Visit the ' +\n",
              "            '<a target=\"_blank\" href=https://colab.research.google.com/notebooks/data_table.ipynb>data table notebook</a>'\n",
              "            + ' to learn more about interactive tables.';\n",
              "          element.innerHTML = '';\n",
              "          dataTable['output_type'] = 'display_data';\n",
              "          await google.colab.output.renderOutput(dataTable, element);\n",
              "          const docLink = document.createElement('div');\n",
              "          docLink.innerHTML = docLinkHtml;\n",
              "          element.appendChild(docLink);\n",
              "        }\n",
              "      </script>\n",
              "    </div>\n",
              "  </div>\n",
              "  "
            ]
          },
          "metadata": {},
          "execution_count": 24
        }
      ],
      "source": [
        "repurposed_drugs = pd.DataFrame(drug_rp_repurposing_2_id)\n",
        "repurposed_drugs = repurposed_drugs.rename(columns = {0: 'Name'})\n",
        "repurposed_drugs['Actual Status'] = drug_rp_repurposing_2_status\n",
        "repurposed_drugs"
      ]
    },
    {
      "cell_type": "code",
      "execution_count": null,
      "metadata": {
        "id": "II0ZRbSQV49E"
      },
      "outputs": [],
      "source": [
        "x_new = tf.convert_to_tensor(drug_rp_repurposing_2_smiles.astype(int))"
      ]
    },
    {
      "cell_type": "code",
      "execution_count": null,
      "metadata": {
        "id": "BwfsyRtIJ8sb"
      },
      "outputs": [],
      "source": [
        "model = tf.keras.models.load_model('/content/drive/MyDrive/Results/Model_3/model_3.h5')"
      ]
    },
    {
      "cell_type": "code",
      "execution_count": null,
      "metadata": {
        "colab": {
          "base_uri": "https://localhost:8080/"
        },
        "id": "EV3WF_zPTGQn",
        "outputId": "94059fad-2c8a-4a60-c311-bfdbf4799d8c"
      },
      "outputs": [
        {
          "output_type": "stream",
          "name": "stdout",
          "text": [
            "64/64 [==============================] - 1s 3ms/step\n"
          ]
        }
      ],
      "source": [
        "y_pred_scores = model.predict(x_new)"
      ]
    },
    {
      "cell_type": "code",
      "execution_count": null,
      "metadata": {
        "colab": {
          "base_uri": "https://localhost:8080/",
          "height": 423
        },
        "id": "BN6gN5EmWHp8",
        "outputId": "28dc7cbe-2d91-4c2a-a53f-ab87b3d16575"
      },
      "outputs": [
        {
          "output_type": "display_data",
          "data": {
            "text/plain": [
              "                       Name Actual Status         Score\n",
              "0       (R)-(-)-apomorphine         False  2.414285e-05\n",
              "1                  abacavir         False  3.750939e-07\n",
              "2               abemaciclib          True  1.221613e-03\n",
              "3               abiraterone          True  1.002901e-02\n",
              "4       abiraterone-acetate          True  1.182719e-08\n",
              "...                     ...           ...           ...\n",
              "2024   4-aminohippuric-acid         False  1.246507e-03\n",
              "2025  5-aminolevulinic-acid         False  9.953285e-02\n",
              "2026         5-fluorouracil          True  7.396071e-04\n",
              "2027    5-hydroxytryptophan         False  9.244252e-01\n",
              "2028            7-keto-DHEA         False  7.487400e-06\n",
              "\n",
              "[2029 rows x 3 columns]"
            ],
            "text/html": [
              "\n",
              "  <div id=\"df-bdb81891-5623-4449-b9ef-340fdefef5ae\">\n",
              "    <div class=\"colab-df-container\">\n",
              "      <div>\n",
              "<style scoped>\n",
              "    .dataframe tbody tr th:only-of-type {\n",
              "        vertical-align: middle;\n",
              "    }\n",
              "\n",
              "    .dataframe tbody tr th {\n",
              "        vertical-align: top;\n",
              "    }\n",
              "\n",
              "    .dataframe thead th {\n",
              "        text-align: right;\n",
              "    }\n",
              "</style>\n",
              "<table border=\"1\" class=\"dataframe\">\n",
              "  <thead>\n",
              "    <tr style=\"text-align: right;\">\n",
              "      <th></th>\n",
              "      <th>Name</th>\n",
              "      <th>Actual Status</th>\n",
              "      <th>Score</th>\n",
              "    </tr>\n",
              "  </thead>\n",
              "  <tbody>\n",
              "    <tr>\n",
              "      <th>0</th>\n",
              "      <td>(R)-(-)-apomorphine</td>\n",
              "      <td>False</td>\n",
              "      <td>2.414285e-05</td>\n",
              "    </tr>\n",
              "    <tr>\n",
              "      <th>1</th>\n",
              "      <td>abacavir</td>\n",
              "      <td>False</td>\n",
              "      <td>3.750939e-07</td>\n",
              "    </tr>\n",
              "    <tr>\n",
              "      <th>2</th>\n",
              "      <td>abemaciclib</td>\n",
              "      <td>True</td>\n",
              "      <td>1.221613e-03</td>\n",
              "    </tr>\n",
              "    <tr>\n",
              "      <th>3</th>\n",
              "      <td>abiraterone</td>\n",
              "      <td>True</td>\n",
              "      <td>1.002901e-02</td>\n",
              "    </tr>\n",
              "    <tr>\n",
              "      <th>4</th>\n",
              "      <td>abiraterone-acetate</td>\n",
              "      <td>True</td>\n",
              "      <td>1.182719e-08</td>\n",
              "    </tr>\n",
              "    <tr>\n",
              "      <th>...</th>\n",
              "      <td>...</td>\n",
              "      <td>...</td>\n",
              "      <td>...</td>\n",
              "    </tr>\n",
              "    <tr>\n",
              "      <th>2024</th>\n",
              "      <td>4-aminohippuric-acid</td>\n",
              "      <td>False</td>\n",
              "      <td>1.246507e-03</td>\n",
              "    </tr>\n",
              "    <tr>\n",
              "      <th>2025</th>\n",
              "      <td>5-aminolevulinic-acid</td>\n",
              "      <td>False</td>\n",
              "      <td>9.953285e-02</td>\n",
              "    </tr>\n",
              "    <tr>\n",
              "      <th>2026</th>\n",
              "      <td>5-fluorouracil</td>\n",
              "      <td>True</td>\n",
              "      <td>7.396071e-04</td>\n",
              "    </tr>\n",
              "    <tr>\n",
              "      <th>2027</th>\n",
              "      <td>5-hydroxytryptophan</td>\n",
              "      <td>False</td>\n",
              "      <td>9.244252e-01</td>\n",
              "    </tr>\n",
              "    <tr>\n",
              "      <th>2028</th>\n",
              "      <td>7-keto-DHEA</td>\n",
              "      <td>False</td>\n",
              "      <td>7.487400e-06</td>\n",
              "    </tr>\n",
              "  </tbody>\n",
              "</table>\n",
              "<p>2029 rows × 3 columns</p>\n",
              "</div>\n",
              "      <button class=\"colab-df-convert\" onclick=\"convertToInteractive('df-bdb81891-5623-4449-b9ef-340fdefef5ae')\"\n",
              "              title=\"Convert this dataframe to an interactive table.\"\n",
              "              style=\"display:none;\">\n",
              "        \n",
              "  <svg xmlns=\"http://www.w3.org/2000/svg\" height=\"24px\"viewBox=\"0 0 24 24\"\n",
              "       width=\"24px\">\n",
              "    <path d=\"M0 0h24v24H0V0z\" fill=\"none\"/>\n",
              "    <path d=\"M18.56 5.44l.94 2.06.94-2.06 2.06-.94-2.06-.94-.94-2.06-.94 2.06-2.06.94zm-11 1L8.5 8.5l.94-2.06 2.06-.94-2.06-.94L8.5 2.5l-.94 2.06-2.06.94zm10 10l.94 2.06.94-2.06 2.06-.94-2.06-.94-.94-2.06-.94 2.06-2.06.94z\"/><path d=\"M17.41 7.96l-1.37-1.37c-.4-.4-.92-.59-1.43-.59-.52 0-1.04.2-1.43.59L10.3 9.45l-7.72 7.72c-.78.78-.78 2.05 0 2.83L4 21.41c.39.39.9.59 1.41.59.51 0 1.02-.2 1.41-.59l7.78-7.78 2.81-2.81c.8-.78.8-2.07 0-2.86zM5.41 20L4 18.59l7.72-7.72 1.47 1.35L5.41 20z\"/>\n",
              "  </svg>\n",
              "      </button>\n",
              "      \n",
              "  <style>\n",
              "    .colab-df-container {\n",
              "      display:flex;\n",
              "      flex-wrap:wrap;\n",
              "      gap: 12px;\n",
              "    }\n",
              "\n",
              "    .colab-df-convert {\n",
              "      background-color: #E8F0FE;\n",
              "      border: none;\n",
              "      border-radius: 50%;\n",
              "      cursor: pointer;\n",
              "      display: none;\n",
              "      fill: #1967D2;\n",
              "      height: 32px;\n",
              "      padding: 0 0 0 0;\n",
              "      width: 32px;\n",
              "    }\n",
              "\n",
              "    .colab-df-convert:hover {\n",
              "      background-color: #E2EBFA;\n",
              "      box-shadow: 0px 1px 2px rgba(60, 64, 67, 0.3), 0px 1px 3px 1px rgba(60, 64, 67, 0.15);\n",
              "      fill: #174EA6;\n",
              "    }\n",
              "\n",
              "    [theme=dark] .colab-df-convert {\n",
              "      background-color: #3B4455;\n",
              "      fill: #D2E3FC;\n",
              "    }\n",
              "\n",
              "    [theme=dark] .colab-df-convert:hover {\n",
              "      background-color: #434B5C;\n",
              "      box-shadow: 0px 1px 3px 1px rgba(0, 0, 0, 0.15);\n",
              "      filter: drop-shadow(0px 1px 2px rgba(0, 0, 0, 0.3));\n",
              "      fill: #FFFFFF;\n",
              "    }\n",
              "  </style>\n",
              "\n",
              "      <script>\n",
              "        const buttonEl =\n",
              "          document.querySelector('#df-bdb81891-5623-4449-b9ef-340fdefef5ae button.colab-df-convert');\n",
              "        buttonEl.style.display =\n",
              "          google.colab.kernel.accessAllowed ? 'block' : 'none';\n",
              "\n",
              "        async function convertToInteractive(key) {\n",
              "          const element = document.querySelector('#df-bdb81891-5623-4449-b9ef-340fdefef5ae');\n",
              "          const dataTable =\n",
              "            await google.colab.kernel.invokeFunction('convertToInteractive',\n",
              "                                                     [key], {});\n",
              "          if (!dataTable) return;\n",
              "\n",
              "          const docLinkHtml = 'Like what you see? Visit the ' +\n",
              "            '<a target=\"_blank\" href=https://colab.research.google.com/notebooks/data_table.ipynb>data table notebook</a>'\n",
              "            + ' to learn more about interactive tables.';\n",
              "          element.innerHTML = '';\n",
              "          dataTable['output_type'] = 'display_data';\n",
              "          await google.colab.output.renderOutput(dataTable, element);\n",
              "          const docLink = document.createElement('div');\n",
              "          docLink.innerHTML = docLinkHtml;\n",
              "          element.appendChild(docLink);\n",
              "        }\n",
              "      </script>\n",
              "    </div>\n",
              "  </div>\n",
              "  "
            ]
          },
          "metadata": {}
        }
      ],
      "source": [
        "repurposed_drugs['Score'] = y_pred_scores\n",
        "display(repurposed_drugs)"
      ]
    },
    {
      "cell_type": "code",
      "execution_count": null,
      "metadata": {
        "colab": {
          "base_uri": "https://localhost:8080/",
          "height": 297
        },
        "id": "QNhvuJxgWvmr",
        "outputId": "f9c0d0bb-ce09-464e-ca5b-297482a8e06e"
      },
      "outputs": [
        {
          "output_type": "execute_result",
          "data": {
            "text/plain": [
              "<AxesSubplot:xlabel='Score', ylabel='Count'>"
            ]
          },
          "metadata": {},
          "execution_count": 29
        },
        {
          "output_type": "display_data",
          "data": {
            "text/plain": [
              "<Figure size 432x288 with 1 Axes>"
            ],
            "image/png": "[encoded data removed]"
          },
          "metadata": {
            "needs_background": "light"
          }
        }
      ],
      "source": [
        "sns.histplot(repurposed_drugs['Score'])"
      ]
    },
    {
      "cell_type": "code",
      "execution_count": null,
      "metadata": {
        "id": "BX3f2e0KZLOr",
        "colab": {
          "base_uri": "https://localhost:8080/",
          "height": 297
        },
        "outputId": "45fb23be-cf1c-4113-ffc8-7e913c887377"
      },
      "outputs": [
        {
          "output_type": "execute_result",
          "data": {
            "text/plain": [
              "<AxesSubplot:xlabel='Score', ylabel='Count'>"
            ]
          },
          "metadata": {},
          "execution_count": 30
        },
        {
          "output_type": "display_data",
          "data": {
            "text/plain": [
              "<Figure size 432x288 with 1 Axes>"
            ],
            "image/png": "[encoded data removed]"
          },
          "metadata": {
            "needs_background": "light"
          }
        }
      ],
      "source": [
        "sns.histplot(data = repurposed_drugs, x = 'Score', hue = 'Actual Status')"
      ]
    },
    {
      "cell_type": "code",
      "execution_count": null,
      "metadata": {
        "id": "95wUpY8dOlTl"
      },
      "outputs": [],
      "source": [
        "threshold = 0.8"
      ]
    },
    {
      "cell_type": "code",
      "execution_count": null,
      "metadata": {
        "id": "Y3ywpqFgOcFy"
      },
      "outputs": [],
      "source": [
        "repurposed_drugs['Predicted Status'] = repurposed_drugs.Score.apply(lambda x: True if x > threshold else False)"
      ]
    },
    {
      "cell_type": "code",
      "execution_count": null,
      "metadata": {
        "colab": {
          "base_uri": "https://localhost:8080/",
          "height": 297
        },
        "id": "D4EcvylDOpOh",
        "outputId": "3fbe6f21-7204-499e-fcae-f80c7ef37c5e"
      },
      "outputs": [
        {
          "output_type": "execute_result",
          "data": {
            "text/plain": [
              "<AxesSubplot:xlabel='Actual Status', ylabel='Score'>"
            ]
          },
          "metadata": {},
          "execution_count": 33
        },
        {
          "output_type": "display_data",
          "data": {
            "text/plain": [
              "<Figure size 432x288 with 1 Axes>"
            ],
            "image/png": "[encoded data removed]"
          },
          "metadata": {
            "needs_background": "light"
          }
        }
      ],
      "source": [
        "sns.violinplot(data = repurposed_drugs, x = 'Actual Status', y = 'Score')"
      ]
    },
    {
      "cell_type": "code",
      "execution_count": null,
      "metadata": {
        "id": "gboy-_cZOpFf"
      },
      "outputs": [],
      "source": [
        "# print(repurposed_drugs[repurposed_drugs.status == True]['score'].mean())\n",
        "# print(repurposed_drugs[repurposed_drugs.status == False]['score'].mean())"
      ]
    },
    {
      "cell_type": "code",
      "execution_count": null,
      "metadata": {
        "id": "25ayO3mMaGQV"
      },
      "outputs": [],
      "source": [
        "# Calculate true positive rate\n",
        "\n",
        "# Calculate false negative rate\n",
        "\n",
        "\n",
        "# See which ones are not currently cancer drugs, but are predicted to be cancer drugs --> short literature review on e.g. top 5 and see if they are in relevant pathways or in clinical trials etc"
      ]
    },
    {
      "cell_type": "code",
      "execution_count": null,
      "metadata": {
        "id": "aWDtWmo4QDFT"
      },
      "outputs": [],
      "source": [
        "def correctness(x, y):\n",
        "  if x == True: # x represents the actual, labeled status of the drug.\n",
        "    if y == True:\n",
        "      return('True Positive')\n",
        "    else:\n",
        "      return('False Negative')\n",
        "  else:\n",
        "    if y == False:\n",
        "      return('True Negative')\n",
        "    else:\n",
        "      return('False Positive')\n"
      ]
    },
    {
      "cell_type": "markdown",
      "source": [
        "### Final Dataset"
      ],
      "metadata": {
        "id": "5xws-KwIGyKk"
      }
    },
    {
      "cell_type": "code",
      "execution_count": null,
      "metadata": {
        "colab": {
          "base_uri": "https://localhost:8080/",
          "height": 423
        },
        "id": "IbigTYUWPcki",
        "outputId": "1a861038-096c-4049-ed4b-a1df46763082"
      },
      "outputs": [
        {
          "output_type": "display_data",
          "data": {
            "text/plain": [
              "                       Name Actual Status         Score  Predicted Status  \\\n",
              "0       (R)-(-)-apomorphine         False  2.414285e-05             False   \n",
              "1                  abacavir         False  3.750939e-07             False   \n",
              "2               abemaciclib          True  1.221613e-03             False   \n",
              "3               abiraterone          True  1.002901e-02             False   \n",
              "4       abiraterone-acetate          True  1.182719e-08             False   \n",
              "...                     ...           ...           ...               ...   \n",
              "2024   4-aminohippuric-acid         False  1.246507e-03             False   \n",
              "2025  5-aminolevulinic-acid         False  9.953285e-02             False   \n",
              "2026         5-fluorouracil          True  7.396071e-04             False   \n",
              "2027    5-hydroxytryptophan         False  9.244252e-01              True   \n",
              "2028            7-keto-DHEA         False  7.487400e-06             False   \n",
              "\n",
              "            Validity  \n",
              "0      True Negative  \n",
              "1      True Negative  \n",
              "2     False Negative  \n",
              "3     False Negative  \n",
              "4     False Negative  \n",
              "...              ...  \n",
              "2024   True Negative  \n",
              "2025   True Negative  \n",
              "2026  False Negative  \n",
              "2027  False Positive  \n",
              "2028   True Negative  \n",
              "\n",
              "[2029 rows x 5 columns]"
            ],
            "text/html": [
              "\n",
              "  <div id=\"df-f848657e-8bd6-44fe-b7f6-ad2315021626\">\n",
              "    <div class=\"colab-df-container\">\n",
              "      <div>\n",
              "<style scoped>\n",
              "    .dataframe tbody tr th:only-of-type {\n",
              "        vertical-align: middle;\n",
              "    }\n",
              "\n",
              "    .dataframe tbody tr th {\n",
              "        vertical-align: top;\n",
              "    }\n",
              "\n",
              "    .dataframe thead th {\n",
              "        text-align: right;\n",
              "    }\n",
              "</style>\n",
              "<table border=\"1\" class=\"dataframe\">\n",
              "  <thead>\n",
              "    <tr style=\"text-align: right;\">\n",
              "      <th></th>\n",
              "      <th>Name</th>\n",
              "      <th>Actual Status</th>\n",
              "      <th>Score</th>\n",
              "      <th>Predicted Status</th>\n",
              "      <th>Validity</th>\n",
              "    </tr>\n",
              "  </thead>\n",
              "  <tbody>\n",
              "    <tr>\n",
              "      <th>0</th>\n",
              "      <td>(R)-(-)-apomorphine</td>\n",
              "      <td>False</td>\n",
              "      <td>2.414285e-05</td>\n",
              "      <td>False</td>\n",
              "      <td>True Negative</td>\n",
              "    </tr>\n",
              "    <tr>\n",
              "      <th>1</th>\n",
              "      <td>abacavir</td>\n",
              "      <td>False</td>\n",
              "      <td>3.750939e-07</td>\n",
              "      <td>False</td>\n",
              "      <td>True Negative</td>\n",
              "    </tr>\n",
              "    <tr>\n",
              "      <th>2</th>\n",
              "      <td>abemaciclib</td>\n",
              "      <td>True</td>\n",
              "      <td>1.221613e-03</td>\n",
              "      <td>False</td>\n",
              "      <td>False Negative</td>\n",
              "    </tr>\n",
              "    <tr>\n",
              "      <th>3</th>\n",
              "      <td>abiraterone</td>\n",
              "      <td>True</td>\n",
              "      <td>1.002901e-02</td>\n",
              "      <td>False</td>\n",
              "      <td>False Negative</td>\n",
              "    </tr>\n",
              "    <tr>\n",
              "      <th>4</th>\n",
              "      <td>abiraterone-acetate</td>\n",
              "      <td>True</td>\n",
              "      <td>1.182719e-08</td>\n",
              "      <td>False</td>\n",
              "      <td>False Negative</td>\n",
              "    </tr>\n",
              "    <tr>\n",
              "      <th>...</th>\n",
              "      <td>...</td>\n",
              "      <td>...</td>\n",
              "      <td>...</td>\n",
              "      <td>...</td>\n",
              "      <td>...</td>\n",
              "    </tr>\n",
              "    <tr>\n",
              "      <th>2024</th>\n",
              "      <td>4-aminohippuric-acid</td>\n",
              "      <td>False</td>\n",
              "      <td>1.246507e-03</td>\n",
              "      <td>False</td>\n",
              "      <td>True Negative</td>\n",
              "    </tr>\n",
              "    <tr>\n",
              "      <th>2025</th>\n",
              "      <td>5-aminolevulinic-acid</td>\n",
              "      <td>False</td>\n",
              "      <td>9.953285e-02</td>\n",
              "      <td>False</td>\n",
              "      <td>True Negative</td>\n",
              "    </tr>\n",
              "    <tr>\n",
              "      <th>2026</th>\n",
              "      <td>5-fluorouracil</td>\n",
              "      <td>True</td>\n",
              "      <td>7.396071e-04</td>\n",
              "      <td>False</td>\n",
              "      <td>False Negative</td>\n",
              "    </tr>\n",
              "    <tr>\n",
              "      <th>2027</th>\n",
              "      <td>5-hydroxytryptophan</td>\n",
              "      <td>False</td>\n",
              "      <td>9.244252e-01</td>\n",
              "      <td>True</td>\n",
              "      <td>False Positive</td>\n",
              "    </tr>\n",
              "    <tr>\n",
              "      <th>2028</th>\n",
              "      <td>7-keto-DHEA</td>\n",
              "      <td>False</td>\n",
              "      <td>7.487400e-06</td>\n",
              "      <td>False</td>\n",
              "      <td>True Negative</td>\n",
              "    </tr>\n",
              "  </tbody>\n",
              "</table>\n",
              "<p>2029 rows × 5 columns</p>\n",
              "</div>\n",
              "      <button class=\"colab-df-convert\" onclick=\"convertToInteractive('df-f848657e-8bd6-44fe-b7f6-ad2315021626')\"\n",
              "              title=\"Convert this dataframe to an interactive table.\"\n",
              "              style=\"display:none;\">\n",
              "        \n",
              "  <svg xmlns=\"http://www.w3.org/2000/svg\" height=\"24px\"viewBox=\"0 0 24 24\"\n",
              "       width=\"24px\">\n",
              "    <path d=\"M0 0h24v24H0V0z\" fill=\"none\"/>\n",
              "    <path d=\"M18.56 5.44l.94 2.06.94-2.06 2.06-.94-2.06-.94-.94-2.06-.94 2.06-2.06.94zm-11 1L8.5 8.5l.94-2.06 2.06-.94-2.06-.94L8.5 2.5l-.94 2.06-2.06.94zm10 10l.94 2.06.94-2.06 2.06-.94-2.06-.94-.94-2.06-.94 2.06-2.06.94z\"/><path d=\"M17.41 7.96l-1.37-1.37c-.4-.4-.92-.59-1.43-.59-.52 0-1.04.2-1.43.59L10.3 9.45l-7.72 7.72c-.78.78-.78 2.05 0 2.83L4 21.41c.39.39.9.59 1.41.59.51 0 1.02-.2 1.41-.59l7.78-7.78 2.81-2.81c.8-.78.8-2.07 0-2.86zM5.41 20L4 18.59l7.72-7.72 1.47 1.35L5.41 20z\"/>\n",
              "  </svg>\n",
              "      </button>\n",
              "      \n",
              "  <style>\n",
              "    .colab-df-container {\n",
              "      display:flex;\n",
              "      flex-wrap:wrap;\n",
              "      gap: 12px;\n",
              "    }\n",
              "\n",
              "    .colab-df-convert {\n",
              "      background-color: #E8F0FE;\n",
              "      border: none;\n",
              "      border-radius: 50%;\n",
              "      cursor: pointer;\n",
              "      display: none;\n",
              "      fill: #1967D2;\n",
              "      height: 32px;\n",
              "      padding: 0 0 0 0;\n",
              "      width: 32px;\n",
              "    }\n",
              "\n",
              "    .colab-df-convert:hover {\n",
              "      background-color: #E2EBFA;\n",
              "      box-shadow: 0px 1px 2px rgba(60, 64, 67, 0.3), 0px 1px 3px 1px rgba(60, 64, 67, 0.15);\n",
              "      fill: #174EA6;\n",
              "    }\n",
              "\n",
              "    [theme=dark] .colab-df-convert {\n",
              "      background-color: #3B4455;\n",
              "      fill: #D2E3FC;\n",
              "    }\n",
              "\n",
              "    [theme=dark] .colab-df-convert:hover {\n",
              "      background-color: #434B5C;\n",
              "      box-shadow: 0px 1px 3px 1px rgba(0, 0, 0, 0.15);\n",
              "      filter: drop-shadow(0px 1px 2px rgba(0, 0, 0, 0.3));\n",
              "      fill: #FFFFFF;\n",
              "    }\n",
              "  </style>\n",
              "\n",
              "      <script>\n",
              "        const buttonEl =\n",
              "          document.querySelector('#df-f848657e-8bd6-44fe-b7f6-ad2315021626 button.colab-df-convert');\n",
              "        buttonEl.style.display =\n",
              "          google.colab.kernel.accessAllowed ? 'block' : 'none';\n",
              "\n",
              "        async function convertToInteractive(key) {\n",
              "          const element = document.querySelector('#df-f848657e-8bd6-44fe-b7f6-ad2315021626');\n",
              "          const dataTable =\n",
              "            await google.colab.kernel.invokeFunction('convertToInteractive',\n",
              "                                                     [key], {});\n",
              "          if (!dataTable) return;\n",
              "\n",
              "          const docLinkHtml = 'Like what you see? Visit the ' +\n",
              "            '<a target=\"_blank\" href=https://colab.research.google.com/notebooks/data_table.ipynb>data table notebook</a>'\n",
              "            + ' to learn more about interactive tables.';\n",
              "          element.innerHTML = '';\n",
              "          dataTable['output_type'] = 'display_data';\n",
              "          await google.colab.output.renderOutput(dataTable, element);\n",
              "          const docLink = document.createElement('div');\n",
              "          docLink.innerHTML = docLinkHtml;\n",
              "          element.appendChild(docLink);\n",
              "        }\n",
              "      </script>\n",
              "    </div>\n",
              "  </div>\n",
              "  "
            ]
          },
          "metadata": {}
        }
      ],
      "source": [
        "repurposed_drugs['Validity'] = repurposed_drugs.apply(lambda x: correctness(x['Actual Status'], x['Predicted Status']), axis = 1)\n",
        "display(repurposed_drugs)"
      ]
    },
    {
      "cell_type": "code",
      "source": [
        "repurposed_drugs.to_csv('/content/drive/MyDrive/Results/repurposed_drugs.csv', index = True)"
      ],
      "metadata": {
        "id": "5CYDKsOmLRII"
      },
      "execution_count": null,
      "outputs": []
    },
    {
      "cell_type": "code",
      "source": [
        "print(len(repurposed_drugs[repurposed_drugs['Actual Status'] == 'True']))"
      ],
      "metadata": {
        "colab": {
          "base_uri": "https://localhost:8080/"
        },
        "id": "tY7iFkCsHGco",
        "outputId": "51e7d677-b55b-4706-c663-02da409a3819"
      },
      "execution_count": null,
      "outputs": [
        {
          "output_type": "stream",
          "name": "stdout",
          "text": [
            "0\n"
          ]
        }
      ]
    },
    {
      "cell_type": "code",
      "execution_count": null,
      "metadata": {
        "colab": {
          "base_uri": "https://localhost:8080/"
        },
        "id": "WD4xp0jIPuu-",
        "outputId": "7d5975d2-0db0-4db9-c094-cec4718a2405"
      },
      "outputs": [
        {
          "output_type": "stream",
          "name": "stdout",
          "text": [
            "67\n",
            "145\n",
            "1805\n",
            "12\n"
          ]
        }
      ],
      "source": [
        "print(len(repurposed_drugs[repurposed_drugs['Validity'] == 'False Negative']))\n",
        "print(len(repurposed_drugs[repurposed_drugs['Validity'] == 'False Positive']))\n",
        "print(len(repurposed_drugs[repurposed_drugs['Validity'] == 'True Negative']))\n",
        "print(len(repurposed_drugs[repurposed_drugs['Validity'] == 'True Positive']))\n",
        "\n",
        "# Calculate accuracy"
      ]
    },
    {
      "cell_type": "code",
      "source": [
        "# false_negative = len(repurposed_drugs[repurposed_drugs['Validity'] == 'False Negative'])\n",
        "# false_positive = len(repurposed_drugs[repurposed_drugs['Validity'] == 'False Positive'])\n",
        "# true_negative = len(repurposed_drugs[repurposed_drugs['Validity'] == 'True Negative'])\n",
        "# true_positive = len(repurposed_drugs[repurposed_drugs['Validity'] == 'True Positive'])"
      ],
      "metadata": {
        "id": "Qs75di-EDK2y"
      },
      "execution_count": null,
      "outputs": []
    },
    {
      "cell_type": "markdown",
      "source": [
        "#### Scores"
      ],
      "metadata": {
        "id": "Kt2CRGijFE2s"
      }
    },
    {
      "cell_type": "code",
      "source": [
        "FN = len(repurposed_drugs[repurposed_drugs['Validity'] == 'False Negative'])\n",
        "FP = len(repurposed_drugs[repurposed_drugs['Validity'] == 'False Positive'])\n",
        "TN = len(repurposed_drugs[repurposed_drugs['Validity'] == 'True Negative'])\n",
        "TP = len(repurposed_drugs[repurposed_drugs['Validity'] == 'True Positive'])"
      ],
      "metadata": {
        "id": "s1ZS07-5ET8X"
      },
      "execution_count": null,
      "outputs": []
    },
    {
      "cell_type": "code",
      "source": [
        "accuracy = (TP + TN) / (TP + TN + FP + FN)\n",
        "print(accuracy)"
      ],
      "metadata": {
        "colab": {
          "base_uri": "https://localhost:8080/"
        },
        "id": "201SyefvEZzQ",
        "outputId": "98458c97-d243-4519-9e9c-f5b93bc80dde"
      },
      "execution_count": null,
      "outputs": [
        {
          "output_type": "stream",
          "name": "stdout",
          "text": [
            "0.8955150320354854\n"
          ]
        }
      ]
    },
    {
      "cell_type": "code",
      "source": [
        "recall = TP / (TP + FN)\n",
        "print(recall)"
      ],
      "metadata": {
        "colab": {
          "base_uri": "https://localhost:8080/"
        },
        "id": "cK5-Nzh5Ebxx",
        "outputId": "c928936e-3138-4f86-f709-1913433a252c"
      },
      "execution_count": null,
      "outputs": [
        {
          "output_type": "stream",
          "name": "stdout",
          "text": [
            "0.1518987341772152\n"
          ]
        }
      ]
    },
    {
      "cell_type": "code",
      "source": [
        "precision = TP / (TP + FP)\n",
        "print(precision)"
      ],
      "metadata": {
        "colab": {
          "base_uri": "https://localhost:8080/"
        },
        "id": "V6taZHVWEcuk",
        "outputId": "b7306eed-9380-45cd-9472-a8c9460a582b"
      },
      "execution_count": null,
      "outputs": [
        {
          "output_type": "stream",
          "name": "stdout",
          "text": [
            "0.07643312101910828\n"
          ]
        }
      ]
    },
    {
      "cell_type": "code",
      "source": [
        "f1_score = 2 * ((precision * recall) / (precision + recall))\n",
        "print(f1_score)"
      ],
      "metadata": {
        "colab": {
          "base_uri": "https://localhost:8080/"
        },
        "id": "DIuIjSCEEd1s",
        "outputId": "1eb76e0c-46ed-4803-d20b-2cad03f703f0"
      },
      "execution_count": null,
      "outputs": [
        {
          "output_type": "stream",
          "name": "stdout",
          "text": [
            "0.10169491525423728\n"
          ]
        }
      ]
    },
    {
      "cell_type": "code",
      "source": [
        "# import sklearn.metrics as metrics\n",
        "# y_true = repurposed_drugs['Actual Status']\n",
        "# y_scores = repurposed_drugs['Predicted Status']\n",
        "# auc_roc = metrics.roc_auc_score(y_true, y_scores)"
      ],
      "metadata": {
        "id": "0pVUXp_FEfZG"
      },
      "execution_count": null,
      "outputs": []
    },
    {
      "cell_type": "markdown",
      "source": [
        "### Noncancer Drug Candidates"
      ],
      "metadata": {
        "id": "COb9txuCRJpT"
      }
    },
    {
      "cell_type": "code",
      "source": [
        "noncancer_drugs = repurposed_drugs[repurposed_drugs.Score < threshold]"
      ],
      "metadata": {
        "id": "QxxgSzmyRZeM"
      },
      "execution_count": null,
      "outputs": []
    },
    {
      "cell_type": "code",
      "source": [
        "display(noncancer_drugs)"
      ],
      "metadata": {
        "colab": {
          "base_uri": "https://localhost:8080/",
          "height": 658
        },
        "id": "3W7nt6jYRpvo",
        "outputId": "dd330e7b-fea5-4ab7-9d7b-026a687929e2"
      },
      "execution_count": null,
      "outputs": [
        {
          "output_type": "display_data",
          "data": {
            "text/plain": [
              "                                Name Actual Status         Score  \\\n",
              "0                (R)-(-)-apomorphine         False  2.414285e-05   \n",
              "1                           abacavir         False  3.750939e-07   \n",
              "2                        abemaciclib          True  1.221613e-03   \n",
              "3                        abiraterone          True  1.002901e-02   \n",
              "4                abiraterone-acetate          True  1.182719e-08   \n",
              "...                              ...           ...           ...   \n",
              "2022  3-(4-methylbenzylidene)camphor         False  6.331149e-02   \n",
              "2024            4-aminohippuric-acid         False  1.246507e-03   \n",
              "2025           5-aminolevulinic-acid         False  9.953285e-02   \n",
              "2026                  5-fluorouracil          True  7.396071e-04   \n",
              "2028                     7-keto-DHEA         False  7.487400e-06   \n",
              "\n",
              "      Predicted Status        Validity  \n",
              "0                False   True Negative  \n",
              "1                False   True Negative  \n",
              "2                False  False Negative  \n",
              "3                False  False Negative  \n",
              "4                False  False Negative  \n",
              "...                ...             ...  \n",
              "2022             False   True Negative  \n",
              "2024             False   True Negative  \n",
              "2025             False   True Negative  \n",
              "2026             False  False Negative  \n",
              "2028             False   True Negative  \n",
              "\n",
              "[1872 rows x 5 columns]"
            ],
            "text/html": [
              "\n",
              "  <div id=\"df-4faa073f-df1a-4439-93e2-d7501b3d9439\">\n",
              "    <div class=\"colab-df-container\">\n",
              "      <div>\n",
              "<style scoped>\n",
              "    .dataframe tbody tr th:only-of-type {\n",
              "        vertical-align: middle;\n",
              "    }\n",
              "\n",
              "    .dataframe tbody tr th {\n",
              "        vertical-align: top;\n",
              "    }\n",
              "\n",
              "    .dataframe thead th {\n",
              "        text-align: right;\n",
              "    }\n",
              "</style>\n",
              "<table border=\"1\" class=\"dataframe\">\n",
              "  <thead>\n",
              "    <tr style=\"text-align: right;\">\n",
              "      <th></th>\n",
              "      <th>Name</th>\n",
              "      <th>Actual Status</th>\n",
              "      <th>Score</th>\n",
              "      <th>Predicted Status</th>\n",
              "      <th>Validity</th>\n",
              "    </tr>\n",
              "  </thead>\n",
              "  <tbody>\n",
              "    <tr>\n",
              "      <th>0</th>\n",
              "      <td>(R)-(-)-apomorphine</td>\n",
              "      <td>False</td>\n",
              "      <td>2.414285e-05</td>\n",
              "      <td>False</td>\n",
              "      <td>True Negative</td>\n",
              "    </tr>\n",
              "    <tr>\n",
              "      <th>1</th>\n",
              "      <td>abacavir</td>\n",
              "      <td>False</td>\n",
              "      <td>3.750939e-07</td>\n",
              "      <td>False</td>\n",
              "      <td>True Negative</td>\n",
              "    </tr>\n",
              "    <tr>\n",
              "      <th>2</th>\n",
              "      <td>abemaciclib</td>\n",
              "      <td>True</td>\n",
              "      <td>1.221613e-03</td>\n",
              "      <td>False</td>\n",
              "      <td>False Negative</td>\n",
              "    </tr>\n",
              "    <tr>\n",
              "      <th>3</th>\n",
              "      <td>abiraterone</td>\n",
              "      <td>True</td>\n",
              "      <td>1.002901e-02</td>\n",
              "      <td>False</td>\n",
              "      <td>False Negative</td>\n",
              "    </tr>\n",
              "    <tr>\n",
              "      <th>4</th>\n",
              "      <td>abiraterone-acetate</td>\n",
              "      <td>True</td>\n",
              "      <td>1.182719e-08</td>\n",
              "      <td>False</td>\n",
              "      <td>False Negative</td>\n",
              "    </tr>\n",
              "    <tr>\n",
              "      <th>...</th>\n",
              "      <td>...</td>\n",
              "      <td>...</td>\n",
              "      <td>...</td>\n",
              "      <td>...</td>\n",
              "      <td>...</td>\n",
              "    </tr>\n",
              "    <tr>\n",
              "      <th>2022</th>\n",
              "      <td>3-(4-methylbenzylidene)camphor</td>\n",
              "      <td>False</td>\n",
              "      <td>6.331149e-02</td>\n",
              "      <td>False</td>\n",
              "      <td>True Negative</td>\n",
              "    </tr>\n",
              "    <tr>\n",
              "      <th>2024</th>\n",
              "      <td>4-aminohippuric-acid</td>\n",
              "      <td>False</td>\n",
              "      <td>1.246507e-03</td>\n",
              "      <td>False</td>\n",
              "      <td>True Negative</td>\n",
              "    </tr>\n",
              "    <tr>\n",
              "      <th>2025</th>\n",
              "      <td>5-aminolevulinic-acid</td>\n",
              "      <td>False</td>\n",
              "      <td>9.953285e-02</td>\n",
              "      <td>False</td>\n",
              "      <td>True Negative</td>\n",
              "    </tr>\n",
              "    <tr>\n",
              "      <th>2026</th>\n",
              "      <td>5-fluorouracil</td>\n",
              "      <td>True</td>\n",
              "      <td>7.396071e-04</td>\n",
              "      <td>False</td>\n",
              "      <td>False Negative</td>\n",
              "    </tr>\n",
              "    <tr>\n",
              "      <th>2028</th>\n",
              "      <td>7-keto-DHEA</td>\n",
              "      <td>False</td>\n",
              "      <td>7.487400e-06</td>\n",
              "      <td>False</td>\n",
              "      <td>True Negative</td>\n",
              "    </tr>\n",
              "  </tbody>\n",
              "</table>\n",
              "<p>1872 rows × 5 columns</p>\n",
              "</div>\n",
              "      <button class=\"colab-df-convert\" onclick=\"convertToInteractive('df-4faa073f-df1a-4439-93e2-d7501b3d9439')\"\n",
              "              title=\"Convert this dataframe to an interactive table.\"\n",
              "              style=\"display:none;\">\n",
              "        \n",
              "  <svg xmlns=\"http://www.w3.org/2000/svg\" height=\"24px\"viewBox=\"0 0 24 24\"\n",
              "       width=\"24px\">\n",
              "    <path d=\"M0 0h24v24H0V0z\" fill=\"none\"/>\n",
              "    <path d=\"M18.56 5.44l.94 2.06.94-2.06 2.06-.94-2.06-.94-.94-2.06-.94 2.06-2.06.94zm-11 1L8.5 8.5l.94-2.06 2.06-.94-2.06-.94L8.5 2.5l-.94 2.06-2.06.94zm10 10l.94 2.06.94-2.06 2.06-.94-2.06-.94-.94-2.06-.94 2.06-2.06.94z\"/><path d=\"M17.41 7.96l-1.37-1.37c-.4-.4-.92-.59-1.43-.59-.52 0-1.04.2-1.43.59L10.3 9.45l-7.72 7.72c-.78.78-.78 2.05 0 2.83L4 21.41c.39.39.9.59 1.41.59.51 0 1.02-.2 1.41-.59l7.78-7.78 2.81-2.81c.8-.78.8-2.07 0-2.86zM5.41 20L4 18.59l7.72-7.72 1.47 1.35L5.41 20z\"/>\n",
              "  </svg>\n",
              "      </button>\n",
              "      \n",
              "  <style>\n",
              "    .colab-df-container {\n",
              "      display:flex;\n",
              "      flex-wrap:wrap;\n",
              "      gap: 12px;\n",
              "    }\n",
              "\n",
              "    .colab-df-convert {\n",
              "      background-color: #E8F0FE;\n",
              "      border: none;\n",
              "      border-radius: 50%;\n",
              "      cursor: pointer;\n",
              "      display: none;\n",
              "      fill: #1967D2;\n",
              "      height: 32px;\n",
              "      padding: 0 0 0 0;\n",
              "      width: 32px;\n",
              "    }\n",
              "\n",
              "    .colab-df-convert:hover {\n",
              "      background-color: #E2EBFA;\n",
              "      box-shadow: 0px 1px 2px rgba(60, 64, 67, 0.3), 0px 1px 3px 1px rgba(60, 64, 67, 0.15);\n",
              "      fill: #174EA6;\n",
              "    }\n",
              "\n",
              "    [theme=dark] .colab-df-convert {\n",
              "      background-color: #3B4455;\n",
              "      fill: #D2E3FC;\n",
              "    }\n",
              "\n",
              "    [theme=dark] .colab-df-convert:hover {\n",
              "      background-color: #434B5C;\n",
              "      box-shadow: 0px 1px 3px 1px rgba(0, 0, 0, 0.15);\n",
              "      filter: drop-shadow(0px 1px 2px rgba(0, 0, 0, 0.3));\n",
              "      fill: #FFFFFF;\n",
              "    }\n",
              "  </style>\n",
              "\n",
              "      <script>\n",
              "        const buttonEl =\n",
              "          document.querySelector('#df-4faa073f-df1a-4439-93e2-d7501b3d9439 button.colab-df-convert');\n",
              "        buttonEl.style.display =\n",
              "          google.colab.kernel.accessAllowed ? 'block' : 'none';\n",
              "\n",
              "        async function convertToInteractive(key) {\n",
              "          const element = document.querySelector('#df-4faa073f-df1a-4439-93e2-d7501b3d9439');\n",
              "          const dataTable =\n",
              "            await google.colab.kernel.invokeFunction('convertToInteractive',\n",
              "                                                     [key], {});\n",
              "          if (!dataTable) return;\n",
              "\n",
              "          const docLinkHtml = 'Like what you see? Visit the ' +\n",
              "            '<a target=\"_blank\" href=https://colab.research.google.com/notebooks/data_table.ipynb>data table notebook</a>'\n",
              "            + ' to learn more about interactive tables.';\n",
              "          element.innerHTML = '';\n",
              "          dataTable['output_type'] = 'display_data';\n",
              "          await google.colab.output.renderOutput(dataTable, element);\n",
              "          const docLink = document.createElement('div');\n",
              "          docLink.innerHTML = docLinkHtml;\n",
              "          element.appendChild(docLink);\n",
              "        }\n",
              "      </script>\n",
              "    </div>\n",
              "  </div>\n",
              "  "
            ]
          },
          "metadata": {}
        }
      ]
    },
    {
      "cell_type": "code",
      "source": [
        "noncancer_drugs.to_csv('/content/drive/MyDrive/Results/noncancer_drugs.csv', index = True)"
      ],
      "metadata": {
        "id": "JIFQZ_r5R3iq"
      },
      "execution_count": null,
      "outputs": []
    },
    {
      "cell_type": "markdown",
      "source": [
        "### Potential Cancer Drugs"
      ],
      "metadata": {
        "id": "1RtoyLf5DHuf"
      }
    },
    {
      "cell_type": "code",
      "source": [
        "potential_cancer_drugs = repurposed_drugs[repurposed_drugs.Validity == 'False Positive']"
      ],
      "metadata": {
        "id": "cQRMOPJBFMfl"
      },
      "execution_count": null,
      "outputs": []
    },
    {
      "cell_type": "code",
      "source": [
        "display(potential_cancer_drugs)"
      ],
      "metadata": {
        "colab": {
          "base_uri": "https://localhost:8080/",
          "height": 423
        },
        "id": "VfXHbo4RFitf",
        "outputId": "938601c0-c160-47d3-ee80-8601c60242d4"
      },
      "execution_count": null,
      "outputs": [
        {
          "output_type": "display_data",
          "data": {
            "text/plain": [
              "                      Name Actual Status     Score  Predicted Status  \\\n",
              "19    acetohydroxamic-acid         False  1.000000              True   \n",
              "24          acetylcysteine         False  0.996235              True   \n",
              "25           acexamic-acid         False  0.980119              True   \n",
              "79             altrenogest         False  1.000000              True   \n",
              "82               alvimopan         False  1.000000              True   \n",
              "...                    ...           ...       ...               ...   \n",
              "1970            valpromide         False  0.964435              True   \n",
              "1992          voriconazole         False  1.000000              True   \n",
              "2005             zanamivir         False  0.999841              True   \n",
              "2023        3-bromocamphor         False  0.996883              True   \n",
              "2027   5-hydroxytryptophan         False  0.924425              True   \n",
              "\n",
              "            Validity  \n",
              "19    False Positive  \n",
              "24    False Positive  \n",
              "25    False Positive  \n",
              "79    False Positive  \n",
              "82    False Positive  \n",
              "...              ...  \n",
              "1970  False Positive  \n",
              "1992  False Positive  \n",
              "2005  False Positive  \n",
              "2023  False Positive  \n",
              "2027  False Positive  \n",
              "\n",
              "[145 rows x 5 columns]"
            ],
            "text/html": [
              "\n",
              "  <div id=\"df-a9decf70-50a6-4097-8f7d-1c3979580159\">\n",
              "    <div class=\"colab-df-container\">\n",
              "      <div>\n",
              "<style scoped>\n",
              "    .dataframe tbody tr th:only-of-type {\n",
              "        vertical-align: middle;\n",
              "    }\n",
              "\n",
              "    .dataframe tbody tr th {\n",
              "        vertical-align: top;\n",
              "    }\n",
              "\n",
              "    .dataframe thead th {\n",
              "        text-align: right;\n",
              "    }\n",
              "</style>\n",
              "<table border=\"1\" class=\"dataframe\">\n",
              "  <thead>\n",
              "    <tr style=\"text-align: right;\">\n",
              "      <th></th>\n",
              "      <th>Name</th>\n",
              "      <th>Actual Status</th>\n",
              "      <th>Score</th>\n",
              "      <th>Predicted Status</th>\n",
              "      <th>Validity</th>\n",
              "    </tr>\n",
              "  </thead>\n",
              "  <tbody>\n",
              "    <tr>\n",
              "      <th>19</th>\n",
              "      <td>acetohydroxamic-acid</td>\n",
              "      <td>False</td>\n",
              "      <td>1.000000</td>\n",
              "      <td>True</td>\n",
              "      <td>False Positive</td>\n",
              "    </tr>\n",
              "    <tr>\n",
              "      <th>24</th>\n",
              "      <td>acetylcysteine</td>\n",
              "      <td>False</td>\n",
              "      <td>0.996235</td>\n",
              "      <td>True</td>\n",
              "      <td>False Positive</td>\n",
              "    </tr>\n",
              "    <tr>\n",
              "      <th>25</th>\n",
              "      <td>acexamic-acid</td>\n",
              "      <td>False</td>\n",
              "      <td>0.980119</td>\n",
              "      <td>True</td>\n",
              "      <td>False Positive</td>\n",
              "    </tr>\n",
              "    <tr>\n",
              "      <th>79</th>\n",
              "      <td>altrenogest</td>\n",
              "      <td>False</td>\n",
              "      <td>1.000000</td>\n",
              "      <td>True</td>\n",
              "      <td>False Positive</td>\n",
              "    </tr>\n",
              "    <tr>\n",
              "      <th>82</th>\n",
              "      <td>alvimopan</td>\n",
              "      <td>False</td>\n",
              "      <td>1.000000</td>\n",
              "      <td>True</td>\n",
              "      <td>False Positive</td>\n",
              "    </tr>\n",
              "    <tr>\n",
              "      <th>...</th>\n",
              "      <td>...</td>\n",
              "      <td>...</td>\n",
              "      <td>...</td>\n",
              "      <td>...</td>\n",
              "      <td>...</td>\n",
              "    </tr>\n",
              "    <tr>\n",
              "      <th>1970</th>\n",
              "      <td>valpromide</td>\n",
              "      <td>False</td>\n",
              "      <td>0.964435</td>\n",
              "      <td>True</td>\n",
              "      <td>False Positive</td>\n",
              "    </tr>\n",
              "    <tr>\n",
              "      <th>1992</th>\n",
              "      <td>voriconazole</td>\n",
              "      <td>False</td>\n",
              "      <td>1.000000</td>\n",
              "      <td>True</td>\n",
              "      <td>False Positive</td>\n",
              "    </tr>\n",
              "    <tr>\n",
              "      <th>2005</th>\n",
              "      <td>zanamivir</td>\n",
              "      <td>False</td>\n",
              "      <td>0.999841</td>\n",
              "      <td>True</td>\n",
              "      <td>False Positive</td>\n",
              "    </tr>\n",
              "    <tr>\n",
              "      <th>2023</th>\n",
              "      <td>3-bromocamphor</td>\n",
              "      <td>False</td>\n",
              "      <td>0.996883</td>\n",
              "      <td>True</td>\n",
              "      <td>False Positive</td>\n",
              "    </tr>\n",
              "    <tr>\n",
              "      <th>2027</th>\n",
              "      <td>5-hydroxytryptophan</td>\n",
              "      <td>False</td>\n",
              "      <td>0.924425</td>\n",
              "      <td>True</td>\n",
              "      <td>False Positive</td>\n",
              "    </tr>\n",
              "  </tbody>\n",
              "</table>\n",
              "<p>145 rows × 5 columns</p>\n",
              "</div>\n",
              "      <button class=\"colab-df-convert\" onclick=\"convertToInteractive('df-a9decf70-50a6-4097-8f7d-1c3979580159')\"\n",
              "              title=\"Convert this dataframe to an interactive table.\"\n",
              "              style=\"display:none;\">\n",
              "        \n",
              "  <svg xmlns=\"http://www.w3.org/2000/svg\" height=\"24px\"viewBox=\"0 0 24 24\"\n",
              "       width=\"24px\">\n",
              "    <path d=\"M0 0h24v24H0V0z\" fill=\"none\"/>\n",
              "    <path d=\"M18.56 5.44l.94 2.06.94-2.06 2.06-.94-2.06-.94-.94-2.06-.94 2.06-2.06.94zm-11 1L8.5 8.5l.94-2.06 2.06-.94-2.06-.94L8.5 2.5l-.94 2.06-2.06.94zm10 10l.94 2.06.94-2.06 2.06-.94-2.06-.94-.94-2.06-.94 2.06-2.06.94z\"/><path d=\"M17.41 7.96l-1.37-1.37c-.4-.4-.92-.59-1.43-.59-.52 0-1.04.2-1.43.59L10.3 9.45l-7.72 7.72c-.78.78-.78 2.05 0 2.83L4 21.41c.39.39.9.59 1.41.59.51 0 1.02-.2 1.41-.59l7.78-7.78 2.81-2.81c.8-.78.8-2.07 0-2.86zM5.41 20L4 18.59l7.72-7.72 1.47 1.35L5.41 20z\"/>\n",
              "  </svg>\n",
              "      </button>\n",
              "      \n",
              "  <style>\n",
              "    .colab-df-container {\n",
              "      display:flex;\n",
              "      flex-wrap:wrap;\n",
              "      gap: 12px;\n",
              "    }\n",
              "\n",
              "    .colab-df-convert {\n",
              "      background-color: #E8F0FE;\n",
              "      border: none;\n",
              "      border-radius: 50%;\n",
              "      cursor: pointer;\n",
              "      display: none;\n",
              "      fill: #1967D2;\n",
              "      height: 32px;\n",
              "      padding: 0 0 0 0;\n",
              "      width: 32px;\n",
              "    }\n",
              "\n",
              "    .colab-df-convert:hover {\n",
              "      background-color: #E2EBFA;\n",
              "      box-shadow: 0px 1px 2px rgba(60, 64, 67, 0.3), 0px 1px 3px 1px rgba(60, 64, 67, 0.15);\n",
              "      fill: #174EA6;\n",
              "    }\n",
              "\n",
              "    [theme=dark] .colab-df-convert {\n",
              "      background-color: #3B4455;\n",
              "      fill: #D2E3FC;\n",
              "    }\n",
              "\n",
              "    [theme=dark] .colab-df-convert:hover {\n",
              "      background-color: #434B5C;\n",
              "      box-shadow: 0px 1px 3px 1px rgba(0, 0, 0, 0.15);\n",
              "      filter: drop-shadow(0px 1px 2px rgba(0, 0, 0, 0.3));\n",
              "      fill: #FFFFFF;\n",
              "    }\n",
              "  </style>\n",
              "\n",
              "      <script>\n",
              "        const buttonEl =\n",
              "          document.querySelector('#df-a9decf70-50a6-4097-8f7d-1c3979580159 button.colab-df-convert');\n",
              "        buttonEl.style.display =\n",
              "          google.colab.kernel.accessAllowed ? 'block' : 'none';\n",
              "\n",
              "        async function convertToInteractive(key) {\n",
              "          const element = document.querySelector('#df-a9decf70-50a6-4097-8f7d-1c3979580159');\n",
              "          const dataTable =\n",
              "            await google.colab.kernel.invokeFunction('convertToInteractive',\n",
              "                                                     [key], {});\n",
              "          if (!dataTable) return;\n",
              "\n",
              "          const docLinkHtml = 'Like what you see? Visit the ' +\n",
              "            '<a target=\"_blank\" href=https://colab.research.google.com/notebooks/data_table.ipynb>data table notebook</a>'\n",
              "            + ' to learn more about interactive tables.';\n",
              "          element.innerHTML = '';\n",
              "          dataTable['output_type'] = 'display_data';\n",
              "          await google.colab.output.renderOutput(dataTable, element);\n",
              "          const docLink = document.createElement('div');\n",
              "          docLink.innerHTML = docLinkHtml;\n",
              "          element.appendChild(docLink);\n",
              "        }\n",
              "      </script>\n",
              "    </div>\n",
              "  </div>\n",
              "  "
            ]
          },
          "metadata": {}
        }
      ]
    },
    {
      "cell_type": "code",
      "source": [
        "potential_cancer_drugs = potential_cancer_drugs.sort_values(by = 'Score', ascending = False)\n",
        "display(potential_cancer_drugs)"
      ],
      "metadata": {
        "colab": {
          "base_uri": "https://localhost:8080/",
          "height": 423
        },
        "id": "KugWFNC3GqHx",
        "outputId": "a25243b1-cee5-412d-a8f0-042070cfc9d1"
      },
      "execution_count": null,
      "outputs": [
        {
          "output_type": "display_data",
          "data": {
            "text/plain": [
              "                        Name Actual Status     Score  Predicted Status  \\\n",
              "561              dexrazoxane         False  1.000000              True   \n",
              "1548            progesterone         False  1.000000              True   \n",
              "1691             sevoflurane         False  1.000000              True   \n",
              "389    chlormadinone-acetate         False  1.000000              True   \n",
              "1634             rilmenidine         False  1.000000              True   \n",
              "...                      ...           ...       ...               ...   \n",
              "850              gemfibrozil         False  0.856558              True   \n",
              "1572           protriptyline         False  0.854196              True   \n",
              "1096             lynestrenol         False  0.845604              True   \n",
              "541   dehydroepiandrosterone         False  0.833289              True   \n",
              "618                docosanol         False  0.806923              True   \n",
              "\n",
              "            Validity  \n",
              "561   False Positive  \n",
              "1548  False Positive  \n",
              "1691  False Positive  \n",
              "389   False Positive  \n",
              "1634  False Positive  \n",
              "...              ...  \n",
              "850   False Positive  \n",
              "1572  False Positive  \n",
              "1096  False Positive  \n",
              "541   False Positive  \n",
              "618   False Positive  \n",
              "\n",
              "[145 rows x 5 columns]"
            ],
            "text/html": [
              "\n",
              "  <div id=\"df-30e8786b-15dd-406c-95e6-db97776954c4\">\n",
              "    <div class=\"colab-df-container\">\n",
              "      <div>\n",
              "<style scoped>\n",
              "    .dataframe tbody tr th:only-of-type {\n",
              "        vertical-align: middle;\n",
              "    }\n",
              "\n",
              "    .dataframe tbody tr th {\n",
              "        vertical-align: top;\n",
              "    }\n",
              "\n",
              "    .dataframe thead th {\n",
              "        text-align: right;\n",
              "    }\n",
              "</style>\n",
              "<table border=\"1\" class=\"dataframe\">\n",
              "  <thead>\n",
              "    <tr style=\"text-align: right;\">\n",
              "      <th></th>\n",
              "      <th>Name</th>\n",
              "      <th>Actual Status</th>\n",
              "      <th>Score</th>\n",
              "      <th>Predicted Status</th>\n",
              "      <th>Validity</th>\n",
              "    </tr>\n",
              "  </thead>\n",
              "  <tbody>\n",
              "    <tr>\n",
              "      <th>561</th>\n",
              "      <td>dexrazoxane</td>\n",
              "      <td>False</td>\n",
              "      <td>1.000000</td>\n",
              "      <td>True</td>\n",
              "      <td>False Positive</td>\n",
              "    </tr>\n",
              "    <tr>\n",
              "      <th>1548</th>\n",
              "      <td>progesterone</td>\n",
              "      <td>False</td>\n",
              "      <td>1.000000</td>\n",
              "      <td>True</td>\n",
              "      <td>False Positive</td>\n",
              "    </tr>\n",
              "    <tr>\n",
              "      <th>1691</th>\n",
              "      <td>sevoflurane</td>\n",
              "      <td>False</td>\n",
              "      <td>1.000000</td>\n",
              "      <td>True</td>\n",
              "      <td>False Positive</td>\n",
              "    </tr>\n",
              "    <tr>\n",
              "      <th>389</th>\n",
              "      <td>chlormadinone-acetate</td>\n",
              "      <td>False</td>\n",
              "      <td>1.000000</td>\n",
              "      <td>True</td>\n",
              "      <td>False Positive</td>\n",
              "    </tr>\n",
              "    <tr>\n",
              "      <th>1634</th>\n",
              "      <td>rilmenidine</td>\n",
              "      <td>False</td>\n",
              "      <td>1.000000</td>\n",
              "      <td>True</td>\n",
              "      <td>False Positive</td>\n",
              "    </tr>\n",
              "    <tr>\n",
              "      <th>...</th>\n",
              "      <td>...</td>\n",
              "      <td>...</td>\n",
              "      <td>...</td>\n",
              "      <td>...</td>\n",
              "      <td>...</td>\n",
              "    </tr>\n",
              "    <tr>\n",
              "      <th>850</th>\n",
              "      <td>gemfibrozil</td>\n",
              "      <td>False</td>\n",
              "      <td>0.856558</td>\n",
              "      <td>True</td>\n",
              "      <td>False Positive</td>\n",
              "    </tr>\n",
              "    <tr>\n",
              "      <th>1572</th>\n",
              "      <td>protriptyline</td>\n",
              "      <td>False</td>\n",
              "      <td>0.854196</td>\n",
              "      <td>True</td>\n",
              "      <td>False Positive</td>\n",
              "    </tr>\n",
              "    <tr>\n",
              "      <th>1096</th>\n",
              "      <td>lynestrenol</td>\n",
              "      <td>False</td>\n",
              "      <td>0.845604</td>\n",
              "      <td>True</td>\n",
              "      <td>False Positive</td>\n",
              "    </tr>\n",
              "    <tr>\n",
              "      <th>541</th>\n",
              "      <td>dehydroepiandrosterone</td>\n",
              "      <td>False</td>\n",
              "      <td>0.833289</td>\n",
              "      <td>True</td>\n",
              "      <td>False Positive</td>\n",
              "    </tr>\n",
              "    <tr>\n",
              "      <th>618</th>\n",
              "      <td>docosanol</td>\n",
              "      <td>False</td>\n",
              "      <td>0.806923</td>\n",
              "      <td>True</td>\n",
              "      <td>False Positive</td>\n",
              "    </tr>\n",
              "  </tbody>\n",
              "</table>\n",
              "<p>145 rows × 5 columns</p>\n",
              "</div>\n",
              "      <button class=\"colab-df-convert\" onclick=\"convertToInteractive('df-30e8786b-15dd-406c-95e6-db97776954c4')\"\n",
              "              title=\"Convert this dataframe to an interactive table.\"\n",
              "              style=\"display:none;\">\n",
              "        \n",
              "  <svg xmlns=\"http://www.w3.org/2000/svg\" height=\"24px\"viewBox=\"0 0 24 24\"\n",
              "       width=\"24px\">\n",
              "    <path d=\"M0 0h24v24H0V0z\" fill=\"none\"/>\n",
              "    <path d=\"M18.56 5.44l.94 2.06.94-2.06 2.06-.94-2.06-.94-.94-2.06-.94 2.06-2.06.94zm-11 1L8.5 8.5l.94-2.06 2.06-.94-2.06-.94L8.5 2.5l-.94 2.06-2.06.94zm10 10l.94 2.06.94-2.06 2.06-.94-2.06-.94-.94-2.06-.94 2.06-2.06.94z\"/><path d=\"M17.41 7.96l-1.37-1.37c-.4-.4-.92-.59-1.43-.59-.52 0-1.04.2-1.43.59L10.3 9.45l-7.72 7.72c-.78.78-.78 2.05 0 2.83L4 21.41c.39.39.9.59 1.41.59.51 0 1.02-.2 1.41-.59l7.78-7.78 2.81-2.81c.8-.78.8-2.07 0-2.86zM5.41 20L4 18.59l7.72-7.72 1.47 1.35L5.41 20z\"/>\n",
              "  </svg>\n",
              "      </button>\n",
              "      \n",
              "  <style>\n",
              "    .colab-df-container {\n",
              "      display:flex;\n",
              "      flex-wrap:wrap;\n",
              "      gap: 12px;\n",
              "    }\n",
              "\n",
              "    .colab-df-convert {\n",
              "      background-color: #E8F0FE;\n",
              "      border: none;\n",
              "      border-radius: 50%;\n",
              "      cursor: pointer;\n",
              "      display: none;\n",
              "      fill: #1967D2;\n",
              "      height: 32px;\n",
              "      padding: 0 0 0 0;\n",
              "      width: 32px;\n",
              "    }\n",
              "\n",
              "    .colab-df-convert:hover {\n",
              "      background-color: #E2EBFA;\n",
              "      box-shadow: 0px 1px 2px rgba(60, 64, 67, 0.3), 0px 1px 3px 1px rgba(60, 64, 67, 0.15);\n",
              "      fill: #174EA6;\n",
              "    }\n",
              "\n",
              "    [theme=dark] .colab-df-convert {\n",
              "      background-color: #3B4455;\n",
              "      fill: #D2E3FC;\n",
              "    }\n",
              "\n",
              "    [theme=dark] .colab-df-convert:hover {\n",
              "      background-color: #434B5C;\n",
              "      box-shadow: 0px 1px 3px 1px rgba(0, 0, 0, 0.15);\n",
              "      filter: drop-shadow(0px 1px 2px rgba(0, 0, 0, 0.3));\n",
              "      fill: #FFFFFF;\n",
              "    }\n",
              "  </style>\n",
              "\n",
              "      <script>\n",
              "        const buttonEl =\n",
              "          document.querySelector('#df-30e8786b-15dd-406c-95e6-db97776954c4 button.colab-df-convert');\n",
              "        buttonEl.style.display =\n",
              "          google.colab.kernel.accessAllowed ? 'block' : 'none';\n",
              "\n",
              "        async function convertToInteractive(key) {\n",
              "          const element = document.querySelector('#df-30e8786b-15dd-406c-95e6-db97776954c4');\n",
              "          const dataTable =\n",
              "            await google.colab.kernel.invokeFunction('convertToInteractive',\n",
              "                                                     [key], {});\n",
              "          if (!dataTable) return;\n",
              "\n",
              "          const docLinkHtml = 'Like what you see? Visit the ' +\n",
              "            '<a target=\"_blank\" href=https://colab.research.google.com/notebooks/data_table.ipynb>data table notebook</a>'\n",
              "            + ' to learn more about interactive tables.';\n",
              "          element.innerHTML = '';\n",
              "          dataTable['output_type'] = 'display_data';\n",
              "          await google.colab.output.renderOutput(dataTable, element);\n",
              "          const docLink = document.createElement('div');\n",
              "          docLink.innerHTML = docLinkHtml;\n",
              "          element.appendChild(docLink);\n",
              "        }\n",
              "      </script>\n",
              "    </div>\n",
              "  </div>\n",
              "  "
            ]
          },
          "metadata": {}
        }
      ]
    },
    {
      "cell_type": "code",
      "source": [
        "potential_cancer_drugs.to_csv('/content/drive/MyDrive/Results/potential_cancer_drugs.csv', index = True)"
      ],
      "metadata": {
        "id": "59RPAW7SLhO2"
      },
      "execution_count": null,
      "outputs": []
    },
    {
      "cell_type": "markdown",
      "source": [
        "### Related Cancer Drugs"
      ],
      "metadata": {
        "id": "i2L7LnO4F-Zn"
      }
    },
    {
      "cell_type": "code",
      "source": [
        "confirmed = 1"
      ],
      "metadata": {
        "id": "_8e6c4sqHzmX"
      },
      "execution_count": null,
      "outputs": []
    },
    {
      "cell_type": "code",
      "source": [
        "related_cancer_drugs = potential_cancer_drugs[potential_cancer_drugs.Score == confirmed]"
      ],
      "metadata": {
        "id": "33a1nHEPHpbF"
      },
      "execution_count": null,
      "outputs": []
    },
    {
      "cell_type": "code",
      "source": [
        "display(related_cancer_drugs)"
      ],
      "metadata": {
        "colab": {
          "base_uri": "https://localhost:8080/",
          "height": 895
        },
        "id": "X9-xahZBIBx8",
        "outputId": "c9fb90b6-9f55-438e-ae33-705a5c2d9cab"
      },
      "execution_count": null,
      "outputs": [
        {
          "output_type": "display_data",
          "data": {
            "text/plain": [
              "                       Name Actual Status  Score  Predicted Status  \\\n",
              "561             dexrazoxane         False    1.0              True   \n",
              "1548           progesterone         False    1.0              True   \n",
              "1691            sevoflurane         False    1.0              True   \n",
              "389   chlormadinone-acetate         False    1.0              True   \n",
              "1634            rilmenidine         False    1.0              True   \n",
              "1623          retinaldehyde         False    1.0              True   \n",
              "718              ethambutol         False    1.0              True   \n",
              "751               faropenem         False    1.0              True   \n",
              "778             finasteride         False    1.0              True   \n",
              "1531           prednisolone         False    1.0              True   \n",
              "316           carbazochrome         False    1.0              True   \n",
              "1518       potassium-iodide         False    1.0              True   \n",
              "1517   potassium-canrenoate         False    1.0              True   \n",
              "983            isotretinoin         False    1.0              True   \n",
              "1334           norgestimate         False    1.0              True   \n",
              "1327         norelgestromin         False    1.0              True   \n",
              "1218             miriplatin         False    1.0              True   \n",
              "1172            methenamine         False    1.0              True   \n",
              "359               cefradine         False    1.0              True   \n",
              "1117                mebicar         False    1.0              True   \n",
              "79              altrenogest         False    1.0              True   \n",
              "1992           voriconazole         False    1.0              True   \n",
              "128               anlotinib         False    1.0              True   \n",
              "284              butalbital         False    1.0              True   \n",
              "1908              tretinoin         False    1.0              True   \n",
              "1836             thiopental         False    1.0              True   \n",
              "1868              tivozanib         False    1.0              True   \n",
              "\n",
              "            Validity  \n",
              "561   False Positive  \n",
              "1548  False Positive  \n",
              "1691  False Positive  \n",
              "389   False Positive  \n",
              "1634  False Positive  \n",
              "1623  False Positive  \n",
              "718   False Positive  \n",
              "751   False Positive  \n",
              "778   False Positive  \n",
              "1531  False Positive  \n",
              "316   False Positive  \n",
              "1518  False Positive  \n",
              "1517  False Positive  \n",
              "983   False Positive  \n",
              "1334  False Positive  \n",
              "1327  False Positive  \n",
              "1218  False Positive  \n",
              "1172  False Positive  \n",
              "359   False Positive  \n",
              "1117  False Positive  \n",
              "79    False Positive  \n",
              "1992  False Positive  \n",
              "128   False Positive  \n",
              "284   False Positive  \n",
              "1908  False Positive  \n",
              "1836  False Positive  \n",
              "1868  False Positive  "
            ],
            "text/html": [
              "\n",
              "  <div id=\"df-111055dc-5431-4690-b9c5-4813a89a1ff7\">\n",
              "    <div class=\"colab-df-container\">\n",
              "      <div>\n",
              "<style scoped>\n",
              "    .dataframe tbody tr th:only-of-type {\n",
              "        vertical-align: middle;\n",
              "    }\n",
              "\n",
              "    .dataframe tbody tr th {\n",
              "        vertical-align: top;\n",
              "    }\n",
              "\n",
              "    .dataframe thead th {\n",
              "        text-align: right;\n",
              "    }\n",
              "</style>\n",
              "<table border=\"1\" class=\"dataframe\">\n",
              "  <thead>\n",
              "    <tr style=\"text-align: right;\">\n",
              "      <th></th>\n",
              "      <th>Name</th>\n",
              "      <th>Actual Status</th>\n",
              "      <th>Score</th>\n",
              "      <th>Predicted Status</th>\n",
              "      <th>Validity</th>\n",
              "    </tr>\n",
              "  </thead>\n",
              "  <tbody>\n",
              "    <tr>\n",
              "      <th>561</th>\n",
              "      <td>dexrazoxane</td>\n",
              "      <td>False</td>\n",
              "      <td>1.0</td>\n",
              "      <td>True</td>\n",
              "      <td>False Positive</td>\n",
              "    </tr>\n",
              "    <tr>\n",
              "      <th>1548</th>\n",
              "      <td>progesterone</td>\n",
              "      <td>False</td>\n",
              "      <td>1.0</td>\n",
              "      <td>True</td>\n",
              "      <td>False Positive</td>\n",
              "    </tr>\n",
              "    <tr>\n",
              "      <th>1691</th>\n",
              "      <td>sevoflurane</td>\n",
              "      <td>False</td>\n",
              "      <td>1.0</td>\n",
              "      <td>True</td>\n",
              "      <td>False Positive</td>\n",
              "    </tr>\n",
              "    <tr>\n",
              "      <th>389</th>\n",
              "      <td>chlormadinone-acetate</td>\n",
              "      <td>False</td>\n",
              "      <td>1.0</td>\n",
              "      <td>True</td>\n",
              "      <td>False Positive</td>\n",
              "    </tr>\n",
              "    <tr>\n",
              "      <th>1634</th>\n",
              "      <td>rilmenidine</td>\n",
              "      <td>False</td>\n",
              "      <td>1.0</td>\n",
              "      <td>True</td>\n",
              "      <td>False Positive</td>\n",
              "    </tr>\n",
              "    <tr>\n",
              "      <th>1623</th>\n",
              "      <td>retinaldehyde</td>\n",
              "      <td>False</td>\n",
              "      <td>1.0</td>\n",
              "      <td>True</td>\n",
              "      <td>False Positive</td>\n",
              "    </tr>\n",
              "    <tr>\n",
              "      <th>718</th>\n",
              "      <td>ethambutol</td>\n",
              "      <td>False</td>\n",
              "      <td>1.0</td>\n",
              "      <td>True</td>\n",
              "      <td>False Positive</td>\n",
              "    </tr>\n",
              "    <tr>\n",
              "      <th>751</th>\n",
              "      <td>faropenem</td>\n",
              "      <td>False</td>\n",
              "      <td>1.0</td>\n",
              "      <td>True</td>\n",
              "      <td>False Positive</td>\n",
              "    </tr>\n",
              "    <tr>\n",
              "      <th>778</th>\n",
              "      <td>finasteride</td>\n",
              "      <td>False</td>\n",
              "      <td>1.0</td>\n",
              "      <td>True</td>\n",
              "      <td>False Positive</td>\n",
              "    </tr>\n",
              "    <tr>\n",
              "      <th>1531</th>\n",
              "      <td>prednisolone</td>\n",
              "      <td>False</td>\n",
              "      <td>1.0</td>\n",
              "      <td>True</td>\n",
              "      <td>False Positive</td>\n",
              "    </tr>\n",
              "    <tr>\n",
              "      <th>316</th>\n",
              "      <td>carbazochrome</td>\n",
              "      <td>False</td>\n",
              "      <td>1.0</td>\n",
              "      <td>True</td>\n",
              "      <td>False Positive</td>\n",
              "    </tr>\n",
              "    <tr>\n",
              "      <th>1518</th>\n",
              "      <td>potassium-iodide</td>\n",
              "      <td>False</td>\n",
              "      <td>1.0</td>\n",
              "      <td>True</td>\n",
              "      <td>False Positive</td>\n",
              "    </tr>\n",
              "    <tr>\n",
              "      <th>1517</th>\n",
              "      <td>potassium-canrenoate</td>\n",
              "      <td>False</td>\n",
              "      <td>1.0</td>\n",
              "      <td>True</td>\n",
              "      <td>False Positive</td>\n",
              "    </tr>\n",
              "    <tr>\n",
              "      <th>983</th>\n",
              "      <td>isotretinoin</td>\n",
              "      <td>False</td>\n",
              "      <td>1.0</td>\n",
              "      <td>True</td>\n",
              "      <td>False Positive</td>\n",
              "    </tr>\n",
              "    <tr>\n",
              "      <th>1334</th>\n",
              "      <td>norgestimate</td>\n",
              "      <td>False</td>\n",
              "      <td>1.0</td>\n",
              "      <td>True</td>\n",
              "      <td>False Positive</td>\n",
              "    </tr>\n",
              "    <tr>\n",
              "      <th>1327</th>\n",
              "      <td>norelgestromin</td>\n",
              "      <td>False</td>\n",
              "      <td>1.0</td>\n",
              "      <td>True</td>\n",
              "      <td>False Positive</td>\n",
              "    </tr>\n",
              "    <tr>\n",
              "      <th>1218</th>\n",
              "      <td>miriplatin</td>\n",
              "      <td>False</td>\n",
              "      <td>1.0</td>\n",
              "      <td>True</td>\n",
              "      <td>False Positive</td>\n",
              "    </tr>\n",
              "    <tr>\n",
              "      <th>1172</th>\n",
              "      <td>methenamine</td>\n",
              "      <td>False</td>\n",
              "      <td>1.0</td>\n",
              "      <td>True</td>\n",
              "      <td>False Positive</td>\n",
              "    </tr>\n",
              "    <tr>\n",
              "      <th>359</th>\n",
              "      <td>cefradine</td>\n",
              "      <td>False</td>\n",
              "      <td>1.0</td>\n",
              "      <td>True</td>\n",
              "      <td>False Positive</td>\n",
              "    </tr>\n",
              "    <tr>\n",
              "      <th>1117</th>\n",
              "      <td>mebicar</td>\n",
              "      <td>False</td>\n",
              "      <td>1.0</td>\n",
              "      <td>True</td>\n",
              "      <td>False Positive</td>\n",
              "    </tr>\n",
              "    <tr>\n",
              "      <th>79</th>\n",
              "      <td>altrenogest</td>\n",
              "      <td>False</td>\n",
              "      <td>1.0</td>\n",
              "      <td>True</td>\n",
              "      <td>False Positive</td>\n",
              "    </tr>\n",
              "    <tr>\n",
              "      <th>1992</th>\n",
              "      <td>voriconazole</td>\n",
              "      <td>False</td>\n",
              "      <td>1.0</td>\n",
              "      <td>True</td>\n",
              "      <td>False Positive</td>\n",
              "    </tr>\n",
              "    <tr>\n",
              "      <th>128</th>\n",
              "      <td>anlotinib</td>\n",
              "      <td>False</td>\n",
              "      <td>1.0</td>\n",
              "      <td>True</td>\n",
              "      <td>False Positive</td>\n",
              "    </tr>\n",
              "    <tr>\n",
              "      <th>284</th>\n",
              "      <td>butalbital</td>\n",
              "      <td>False</td>\n",
              "      <td>1.0</td>\n",
              "      <td>True</td>\n",
              "      <td>False Positive</td>\n",
              "    </tr>\n",
              "    <tr>\n",
              "      <th>1908</th>\n",
              "      <td>tretinoin</td>\n",
              "      <td>False</td>\n",
              "      <td>1.0</td>\n",
              "      <td>True</td>\n",
              "      <td>False Positive</td>\n",
              "    </tr>\n",
              "    <tr>\n",
              "      <th>1836</th>\n",
              "      <td>thiopental</td>\n",
              "      <td>False</td>\n",
              "      <td>1.0</td>\n",
              "      <td>True</td>\n",
              "      <td>False Positive</td>\n",
              "    </tr>\n",
              "    <tr>\n",
              "      <th>1868</th>\n",
              "      <td>tivozanib</td>\n",
              "      <td>False</td>\n",
              "      <td>1.0</td>\n",
              "      <td>True</td>\n",
              "      <td>False Positive</td>\n",
              "    </tr>\n",
              "  </tbody>\n",
              "</table>\n",
              "</div>\n",
              "      <button class=\"colab-df-convert\" onclick=\"convertToInteractive('df-111055dc-5431-4690-b9c5-4813a89a1ff7')\"\n",
              "              title=\"Convert this dataframe to an interactive table.\"\n",
              "              style=\"display:none;\">\n",
              "        \n",
              "  <svg xmlns=\"http://www.w3.org/2000/svg\" height=\"24px\"viewBox=\"0 0 24 24\"\n",
              "       width=\"24px\">\n",
              "    <path d=\"M0 0h24v24H0V0z\" fill=\"none\"/>\n",
              "    <path d=\"M18.56 5.44l.94 2.06.94-2.06 2.06-.94-2.06-.94-.94-2.06-.94 2.06-2.06.94zm-11 1L8.5 8.5l.94-2.06 2.06-.94-2.06-.94L8.5 2.5l-.94 2.06-2.06.94zm10 10l.94 2.06.94-2.06 2.06-.94-2.06-.94-.94-2.06-.94 2.06-2.06.94z\"/><path d=\"M17.41 7.96l-1.37-1.37c-.4-.4-.92-.59-1.43-.59-.52 0-1.04.2-1.43.59L10.3 9.45l-7.72 7.72c-.78.78-.78 2.05 0 2.83L4 21.41c.39.39.9.59 1.41.59.51 0 1.02-.2 1.41-.59l7.78-7.78 2.81-2.81c.8-.78.8-2.07 0-2.86zM5.41 20L4 18.59l7.72-7.72 1.47 1.35L5.41 20z\"/>\n",
              "  </svg>\n",
              "      </button>\n",
              "      \n",
              "  <style>\n",
              "    .colab-df-container {\n",
              "      display:flex;\n",
              "      flex-wrap:wrap;\n",
              "      gap: 12px;\n",
              "    }\n",
              "\n",
              "    .colab-df-convert {\n",
              "      background-color: #E8F0FE;\n",
              "      border: none;\n",
              "      border-radius: 50%;\n",
              "      cursor: pointer;\n",
              "      display: none;\n",
              "      fill: #1967D2;\n",
              "      height: 32px;\n",
              "      padding: 0 0 0 0;\n",
              "      width: 32px;\n",
              "    }\n",
              "\n",
              "    .colab-df-convert:hover {\n",
              "      background-color: #E2EBFA;\n",
              "      box-shadow: 0px 1px 2px rgba(60, 64, 67, 0.3), 0px 1px 3px 1px rgba(60, 64, 67, 0.15);\n",
              "      fill: #174EA6;\n",
              "    }\n",
              "\n",
              "    [theme=dark] .colab-df-convert {\n",
              "      background-color: #3B4455;\n",
              "      fill: #D2E3FC;\n",
              "    }\n",
              "\n",
              "    [theme=dark] .colab-df-convert:hover {\n",
              "      background-color: #434B5C;\n",
              "      box-shadow: 0px 1px 3px 1px rgba(0, 0, 0, 0.15);\n",
              "      filter: drop-shadow(0px 1px 2px rgba(0, 0, 0, 0.3));\n",
              "      fill: #FFFFFF;\n",
              "    }\n",
              "  </style>\n",
              "\n",
              "      <script>\n",
              "        const buttonEl =\n",
              "          document.querySelector('#df-111055dc-5431-4690-b9c5-4813a89a1ff7 button.colab-df-convert');\n",
              "        buttonEl.style.display =\n",
              "          google.colab.kernel.accessAllowed ? 'block' : 'none';\n",
              "\n",
              "        async function convertToInteractive(key) {\n",
              "          const element = document.querySelector('#df-111055dc-5431-4690-b9c5-4813a89a1ff7');\n",
              "          const dataTable =\n",
              "            await google.colab.kernel.invokeFunction('convertToInteractive',\n",
              "                                                     [key], {});\n",
              "          if (!dataTable) return;\n",
              "\n",
              "          const docLinkHtml = 'Like what you see? Visit the ' +\n",
              "            '<a target=\"_blank\" href=https://colab.research.google.com/notebooks/data_table.ipynb>data table notebook</a>'\n",
              "            + ' to learn more about interactive tables.';\n",
              "          element.innerHTML = '';\n",
              "          dataTable['output_type'] = 'display_data';\n",
              "          await google.colab.output.renderOutput(dataTable, element);\n",
              "          const docLink = document.createElement('div');\n",
              "          docLink.innerHTML = docLinkHtml;\n",
              "          element.appendChild(docLink);\n",
              "        }\n",
              "      </script>\n",
              "    </div>\n",
              "  </div>\n",
              "  "
            ]
          },
          "metadata": {}
        }
      ]
    },
    {
      "cell_type": "markdown",
      "source": [
        "### Likely Cancer Candidates"
      ],
      "metadata": {
        "id": "oH2PEsx5RD71"
      }
    },
    {
      "cell_type": "code",
      "source": [
        "likely_candidates = potential_cancer_drugs.loc[potential_cancer_drugs['Name'] == 'ethosuximide'] # Select rows where ColumnA is 'XYZ'\n",
        "likely_candidates = potential_cancer_drugs.iloc[0:] # Exclude everything before the first row where ColumnA is 'XYZ'"
      ],
      "metadata": {
        "id": "Gb6TrX0kGDfV"
      },
      "execution_count": null,
      "outputs": []
    },
    {
      "cell_type": "code",
      "source": [
        "likely_candidates.to_csv('/content/drive/MyDrive/Results/likely_candidates.csv', index = True)"
      ],
      "metadata": {
        "id": "whjyYszuGjO2"
      },
      "execution_count": null,
      "outputs": []
    }
  ],
  "metadata": {
    "accelerator": "TPU",
    "colab": {
      "machine_shape": "hm",
      "provenance": [],
      "gpuClass": "premium",
      "include_colab_link": true
    },
    "gpuClass": "premium",
    "kernelspec": {
      "display_name": "Python 3",
      "name": "python3"
    },
    "language_info": {
      "name": "python"
    }
  },
  "nbformat": 4,
  "nbformat_minor": 0
}