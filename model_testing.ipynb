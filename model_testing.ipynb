{
  "nbformat": 4,
  "nbformat_minor": 0,
  "metadata": {
    "colab": {
      "provenance": [],
      "machine_shape": "hm",
      "gpuClass": "premium",
      "include_colab_link": true
    },
    "kernelspec": {
      "name": "python3",
      "display_name": "Python 3"
    },
    "language_info": {
      "name": "python"
    },
    "accelerator": "GPU",
    "gpuClass": "premium"
  },
  "cells": [
    {
      "cell_type": "markdown",
      "metadata": {
        "id": "view-in-github",
        "colab_type": "text"
      },
      "source": [
        "<a href=\"https://colab.research.google.com/github/pranavirohit/cancer-drug-discovery/blob/main/model_testing.ipynb\" target=\"_parent\"><img src=\"https://colab.research.google.com/assets/colab-badge.svg\" alt=\"Open In Colab\"/></a>"
      ]
    },
    {
      "cell_type": "code",
      "source": [
        "from google.colab import drive\n",
        "drive.mount('/content/drive', force_remount = True)"
      ],
      "metadata": {
        "id": "nuBiJt4lnR68",
        "colab": {
          "base_uri": "https://localhost:8080/"
        },
        "outputId": "0860210c-d363-47e2-8d16-8c858030d867"
      },
      "execution_count": null,
      "outputs": [
        {
          "output_type": "stream",
          "name": "stdout",
          "text": [
            "Mounted at /content/drive\n"
          ]
        }
      ]
    },
    {
      "cell_type": "code",
      "source": [
        "import pandas as pd\n",
        "import numpy as np\n",
        "import matplotlib.pyplot as plt\n",
        "import seaborn as sns\n",
        "from scipy import stats\n",
        "import csv"
      ],
      "metadata": {
        "id": "hSdjzA8hnXdO"
      },
      "execution_count": null,
      "outputs": []
    },
    {
      "cell_type": "code",
      "source": [
        "! pip install rdkit"
      ],
      "metadata": {
        "colab": {
          "base_uri": "https://localhost:8080/"
        },
        "id": "V8T3aKCmY9bk",
        "outputId": "c1e31712-cd84-4b28-fe73-d408f6aba03b"
      },
      "execution_count": null,
      "outputs": [
        {
          "output_type": "stream",
          "name": "stdout",
          "text": [
            "Looking in indexes: https://pypi.org/simple, https://us-python.pkg.dev/colab-wheels/public/simple/\n",
            "Collecting rdkit\n",
            "  Downloading rdkit-2022.9.4-cp38-cp38-manylinux_2_17_x86_64.manylinux2014_x86_64.whl (29.3 MB)\n",
            "\u001b[2K     \u001b[90m━━━━━━━━━━━━━━━━━━━━━━━━━━━━━━━━━━━━━━━━\u001b[0m \u001b[32m29.3/29.3 MB\u001b[0m \u001b[31m60.9 MB/s\u001b[0m eta \u001b[36m0:00:00\u001b[0m\n",
            "\u001b[?25hRequirement already satisfied: Pillow in /usr/local/lib/python3.8/dist-packages (from rdkit) (7.1.2)\n",
            "Requirement already satisfied: numpy in /usr/local/lib/python3.8/dist-packages (from rdkit) (1.21.6)\n",
            "Installing collected packages: rdkit\n",
            "Successfully installed rdkit-2022.9.4\n"
          ]
        }
      ]
    },
    {
      "cell_type": "code",
      "source": [
        "# Importing PyTorch library functions.\n",
        "import torch\n",
        "import torch.nn as nn\n",
        "from torch.utils.data import Dataset\n",
        "from torchvision import datasets\n",
        "from torchvision.transforms import ToTensor\n",
        "\n",
        "from torch.utils.data import DataLoader\n",
        "from torch.nn import ReLU\n",
        "from torch.nn import Sigmoid\n",
        "\n",
        "from torch.utils.data import TensorDataset"
      ],
      "metadata": {
        "id": "sVxeYjGZLBBq"
      },
      "execution_count": null,
      "outputs": []
    },
    {
      "cell_type": "code",
      "source": [
        "# Importing Sklearn library functions.\n",
        "import sklearn as sk\n",
        "from sklearn.preprocessing import LabelEncoder\n",
        "from sklearn.model_selection import train_test_split\n",
        "from sklearn.metrics import accuracy_score, precision_score, recall_score, f1_score, roc_auc_score, roc_curve"
      ],
      "metadata": {
        "id": "ND2coNAKnaJu"
      },
      "execution_count": null,
      "outputs": []
    },
    {
      "cell_type": "code",
      "source": [
        "# Importing TensorFlow library functions.\n",
        "import tensorflow as tf\n",
        "from tensorflow import keras\n",
        "from keras import layers as L"
      ],
      "metadata": {
        "id": "6ZjD7XjkncH6"
      },
      "execution_count": null,
      "outputs": []
    },
    {
      "cell_type": "code",
      "source": [],
      "metadata": {
        "id": "CXDNueoceRvc"
      },
      "execution_count": null,
      "outputs": []
    },
    {
      "cell_type": "markdown",
      "source": [
        "## Input Data"
      ],
      "metadata": {
        "id": "6pziWVzIdR6X"
      }
    },
    {
      "cell_type": "code",
      "source": [
        "# Loading chemical strcuture and cancer drug status data.\n",
        "status = np.load('/content/drive/MyDrive/Data/all_cancer.npy', allow_pickle=True)\n",
        "status[status == True] = 1\n",
        "status[status == False] = 0\n",
        "smiles = np.load('/content/drive/MyDrive/Data/all_smiles.npy', allow_pickle=True)"
      ],
      "metadata": {
        "id": "YbKQXWVndUqT"
      },
      "execution_count": null,
      "outputs": []
    },
    {
      "cell_type": "code",
      "source": [
        "# Splitting data into train and test sets.\n",
        "x_train, x_test, y_train, y_test = train_test_split(smiles, status, test_size = 0.2)"
      ],
      "metadata": {
        "id": "KS_-5kH3dXyp"
      },
      "execution_count": null,
      "outputs": []
    },
    {
      "cell_type": "code",
      "source": [
        "# Converting data into tensors.\n",
        "x_train = tf.convert_to_tensor(x_train.astype(int))\n",
        "x_test = tf.convert_to_tensor(x_test.astype(int))\n",
        "y_train = tf.convert_to_tensor(y_train.astype(int))\n",
        "y_test = tf.convert_to_tensor(y_test.astype(int))"
      ],
      "metadata": {
        "id": "zFKscj1FdaaI"
      },
      "execution_count": null,
      "outputs": []
    },
    {
      "cell_type": "markdown",
      "source": [
        "## Model Architecture"
      ],
      "metadata": {
        "id": "FuyKcs9XdcNN"
      }
    },
    {
      "cell_type": "code",
      "source": [
        "# Defining model architecture.\n",
        "model = keras.models.Sequential()\n",
        "model.add(L.Flatten(input_shape=(x_train.shape[1],)))\n",
        "model.add(L.Dense(256, activation=\"relu\"))\n",
        "model.add(L.Dense(128, activation=\"relu\"))\n",
        "model.add(L.Dense(36, activation=\"relu\"))\n",
        "model.add(L.Dense(16, activation=\"relu\"))\n",
        "model.add(L.Dense(1, activation=\"sigmoid\"))\n",
        "\n",
        "# Compiling model.\n",
        "model.compile(optimizer=\"adam\", loss=\"binary_crossentropy\")\n",
        "\n",
        "# Training model.\n",
        "history = model.fit(x_train, y_train, epochs = 100, batch_size = 100, validation_data = (x_test, y_test))\n",
        "\n",
        "# Saving model.\n",
        "model.save('/content/drive/MyDrive/Results/Model_1/model_1.h5')"
      ],
      "metadata": {
        "colab": {
          "base_uri": "https://localhost:8080/"
        },
        "id": "lFoAeKCwaGrp",
        "outputId": "c58af480-dbbe-4dd9-8930-fb635ea5a2c1"
      },
      "execution_count": null,
      "outputs": [
        {
          "output_type": "stream",
          "name": "stdout",
          "text": [
            "Epoch 1/100\n",
            "1156/1156 [==============================] - 13s 6ms/step - loss: 0.0603 - val_loss: 0.0525\n",
            "Epoch 2/100\n",
            "1156/1156 [==============================] - 6s 5ms/step - loss: 0.0416 - val_loss: 0.0500\n",
            "Epoch 3/100\n",
            "1156/1156 [==============================] - 6s 5ms/step - loss: 0.0309 - val_loss: 0.0553\n",
            "Epoch 4/100\n",
            "1156/1156 [==============================] - 6s 5ms/step - loss: 0.0189 - val_loss: 0.0631\n",
            "Epoch 5/100\n",
            "1156/1156 [==============================] - 6s 5ms/step - loss: 0.0100 - val_loss: 0.0772\n",
            "Epoch 6/100\n",
            "1156/1156 [==============================] - 6s 5ms/step - loss: 0.0061 - val_loss: 0.0806\n",
            "Epoch 7/100\n",
            "1156/1156 [==============================] - 6s 5ms/step - loss: 0.0047 - val_loss: 0.1032\n",
            "Epoch 8/100\n",
            "1156/1156 [==============================] - 6s 5ms/step - loss: 0.0036 - val_loss: 0.1146\n",
            "Epoch 9/100\n",
            "1156/1156 [==============================] - 6s 5ms/step - loss: 0.0034 - val_loss: 0.1097\n",
            "Epoch 10/100\n",
            "1156/1156 [==============================] - 6s 5ms/step - loss: 0.0018 - val_loss: 0.1343\n",
            "Epoch 11/100\n",
            "1156/1156 [==============================] - 6s 5ms/step - loss: 0.0014 - val_loss: 0.1553\n",
            "Epoch 12/100\n",
            "1156/1156 [==============================] - 6s 5ms/step - loss: 0.0020 - val_loss: 0.1424\n",
            "Epoch 13/100\n",
            "1156/1156 [==============================] - 6s 5ms/step - loss: 0.0015 - val_loss: 0.1564\n",
            "Epoch 14/100\n",
            "1156/1156 [==============================] - 6s 5ms/step - loss: 0.0020 - val_loss: 0.1203\n",
            "Epoch 15/100\n",
            "1156/1156 [==============================] - 6s 5ms/step - loss: 0.0010 - val_loss: 0.1441\n",
            "Epoch 16/100\n",
            "1156/1156 [==============================] - 6s 5ms/step - loss: 0.0017 - val_loss: 0.1154\n",
            "Epoch 17/100\n",
            "1156/1156 [==============================] - 6s 5ms/step - loss: 0.0013 - val_loss: 0.1373\n",
            "Epoch 18/100\n",
            "1156/1156 [==============================] - 6s 5ms/step - loss: 5.6617e-04 - val_loss: 0.1486\n",
            "Epoch 19/100\n",
            "1156/1156 [==============================] - 6s 5ms/step - loss: 7.0542e-04 - val_loss: 0.1562\n",
            "Epoch 20/100\n",
            "1156/1156 [==============================] - 6s 5ms/step - loss: 0.0016 - val_loss: 0.1299\n",
            "Epoch 21/100\n",
            "1156/1156 [==============================] - 6s 5ms/step - loss: 0.0011 - val_loss: 0.1255\n",
            "Epoch 22/100\n",
            "1156/1156 [==============================] - 6s 5ms/step - loss: 8.6611e-04 - val_loss: 0.1333\n",
            "Epoch 23/100\n",
            "1156/1156 [==============================] - 6s 5ms/step - loss: 7.4387e-04 - val_loss: 0.1466\n",
            "Epoch 24/100\n",
            "1156/1156 [==============================] - 6s 5ms/step - loss: 6.6281e-04 - val_loss: 0.1193\n",
            "Epoch 25/100\n",
            "1156/1156 [==============================] - 6s 5ms/step - loss: 8.3776e-04 - val_loss: 0.1798\n",
            "Epoch 26/100\n",
            "1156/1156 [==============================] - 6s 5ms/step - loss: 0.0010 - val_loss: 0.1763\n",
            "Epoch 27/100\n",
            "1156/1156 [==============================] - 6s 5ms/step - loss: 0.0010 - val_loss: 0.1062\n",
            "Epoch 28/100\n",
            "1156/1156 [==============================] - 6s 5ms/step - loss: 4.8249e-04 - val_loss: 0.1347\n",
            "Epoch 29/100\n",
            "1156/1156 [==============================] - 6s 5ms/step - loss: 5.3255e-04 - val_loss: 0.1615\n",
            "Epoch 30/100\n",
            "1156/1156 [==============================] - 6s 5ms/step - loss: 2.9917e-04 - val_loss: 0.1861\n",
            "Epoch 31/100\n",
            "1156/1156 [==============================] - 6s 5ms/step - loss: 9.9468e-04 - val_loss: 0.1357\n",
            "Epoch 32/100\n",
            "1156/1156 [==============================] - 6s 5ms/step - loss: 8.8287e-04 - val_loss: 0.1310\n",
            "Epoch 33/100\n",
            "1156/1156 [==============================] - 6s 5ms/step - loss: 4.0502e-04 - val_loss: 0.1199\n",
            "Epoch 34/100\n",
            "1156/1156 [==============================] - 6s 5ms/step - loss: 6.7083e-04 - val_loss: 0.1278\n",
            "Epoch 35/100\n",
            "1156/1156 [==============================] - 6s 5ms/step - loss: 4.6981e-04 - val_loss: 0.1520\n",
            "Epoch 36/100\n",
            "1156/1156 [==============================] - 6s 5ms/step - loss: 3.3195e-04 - val_loss: 0.1557\n",
            "Epoch 37/100\n",
            "1156/1156 [==============================] - 6s 5ms/step - loss: 5.6850e-04 - val_loss: 0.1574\n",
            "Epoch 38/100\n",
            "1156/1156 [==============================] - 6s 5ms/step - loss: 5.4435e-04 - val_loss: 0.1212\n",
            "Epoch 39/100\n",
            "1156/1156 [==============================] - 6s 5ms/step - loss: 8.7469e-04 - val_loss: 0.1625\n",
            "Epoch 40/100\n",
            "1156/1156 [==============================] - 6s 5ms/step - loss: 6.9632e-04 - val_loss: 0.1294\n",
            "Epoch 41/100\n",
            "1156/1156 [==============================] - 6s 5ms/step - loss: 4.4881e-04 - val_loss: 0.1512\n",
            "Epoch 42/100\n",
            "1156/1156 [==============================] - 6s 5ms/step - loss: 4.6436e-04 - val_loss: 0.1537\n",
            "Epoch 43/100\n",
            "1156/1156 [==============================] - 6s 5ms/step - loss: 2.8070e-04 - val_loss: 0.1966\n",
            "Epoch 44/100\n",
            "1156/1156 [==============================] - 6s 5ms/step - loss: 2.0866e-04 - val_loss: 0.1662\n",
            "Epoch 45/100\n",
            "1156/1156 [==============================] - 6s 5ms/step - loss: 5.5747e-04 - val_loss: 0.1765\n",
            "Epoch 46/100\n",
            "1156/1156 [==============================] - 6s 5ms/step - loss: 7.3746e-04 - val_loss: 0.1636\n",
            "Epoch 47/100\n",
            "1156/1156 [==============================] - 6s 5ms/step - loss: 4.9586e-04 - val_loss: 0.2094\n",
            "Epoch 48/100\n",
            "1156/1156 [==============================] - 6s 5ms/step - loss: 3.3419e-04 - val_loss: 0.1960\n",
            "Epoch 49/100\n",
            "1156/1156 [==============================] - 6s 5ms/step - loss: 3.6847e-04 - val_loss: 0.2626\n",
            "Epoch 50/100\n",
            "1156/1156 [==============================] - 6s 5ms/step - loss: 3.7087e-04 - val_loss: 0.2036\n",
            "Epoch 51/100\n",
            "1156/1156 [==============================] - 6s 5ms/step - loss: 6.1440e-04 - val_loss: 0.1358\n",
            "Epoch 52/100\n",
            "1156/1156 [==============================] - 6s 5ms/step - loss: 2.5863e-04 - val_loss: 0.1750\n",
            "Epoch 53/100\n",
            "1156/1156 [==============================] - 6s 5ms/step - loss: 1.9871e-04 - val_loss: 0.1721\n",
            "Epoch 54/100\n",
            "1156/1156 [==============================] - 6s 5ms/step - loss: 7.6030e-04 - val_loss: 0.1713\n",
            "Epoch 55/100\n",
            "1156/1156 [==============================] - 6s 5ms/step - loss: 3.5228e-04 - val_loss: 0.1846\n",
            "Epoch 56/100\n",
            "1156/1156 [==============================] - 6s 5ms/step - loss: 4.7822e-04 - val_loss: 0.1744\n",
            "Epoch 57/100\n",
            "1156/1156 [==============================] - 6s 5ms/step - loss: 1.0613e-04 - val_loss: 0.2239\n",
            "Epoch 58/100\n",
            "1156/1156 [==============================] - 6s 5ms/step - loss: 4.5060e-04 - val_loss: 0.1757\n",
            "Epoch 59/100\n",
            "1156/1156 [==============================] - 6s 5ms/step - loss: 5.1283e-04 - val_loss: 0.1708\n",
            "Epoch 60/100\n",
            "1156/1156 [==============================] - 6s 5ms/step - loss: 2.5277e-04 - val_loss: 0.1360\n",
            "Epoch 61/100\n",
            "1156/1156 [==============================] - 6s 5ms/step - loss: 6.6050e-04 - val_loss: 0.1909\n",
            "Epoch 62/100\n",
            "1156/1156 [==============================] - 6s 5ms/step - loss: 7.6003e-04 - val_loss: 0.1364\n",
            "Epoch 63/100\n",
            "1156/1156 [==============================] - 6s 5ms/step - loss: 1.6261e-04 - val_loss: 0.1985\n",
            "Epoch 64/100\n",
            "1156/1156 [==============================] - 6s 5ms/step - loss: 2.7634e-04 - val_loss: 0.1779\n",
            "Epoch 65/100\n",
            "1156/1156 [==============================] - 6s 5ms/step - loss: 3.2404e-04 - val_loss: 0.1910\n",
            "Epoch 66/100\n",
            "1156/1156 [==============================] - 6s 5ms/step - loss: 5.5609e-04 - val_loss: 0.1867\n",
            "Epoch 67/100\n",
            "1156/1156 [==============================] - 6s 5ms/step - loss: 2.1532e-04 - val_loss: 0.2132\n",
            "Epoch 68/100\n",
            "1156/1156 [==============================] - 6s 5ms/step - loss: 4.3132e-04 - val_loss: 0.1668\n",
            "Epoch 69/100\n",
            "1156/1156 [==============================] - 6s 5ms/step - loss: 2.6227e-04 - val_loss: 0.1595\n",
            "Epoch 70/100\n",
            "1156/1156 [==============================] - 6s 5ms/step - loss: 5.9105e-04 - val_loss: 0.1950\n",
            "Epoch 71/100\n",
            "1156/1156 [==============================] - 6s 5ms/step - loss: 4.3431e-04 - val_loss: 0.1393\n",
            "Epoch 72/100\n",
            "1156/1156 [==============================] - 6s 5ms/step - loss: 2.9211e-04 - val_loss: 0.1820\n",
            "Epoch 73/100\n",
            "1156/1156 [==============================] - 6s 5ms/step - loss: 1.8354e-04 - val_loss: 0.1751\n",
            "Epoch 74/100\n",
            "1156/1156 [==============================] - 6s 5ms/step - loss: 1.5372e-04 - val_loss: 0.1948\n",
            "Epoch 75/100\n",
            "1156/1156 [==============================] - 6s 5ms/step - loss: 8.1692e-05 - val_loss: 0.2289\n",
            "Epoch 76/100\n",
            "1156/1156 [==============================] - 6s 5ms/step - loss: 1.9267e-04 - val_loss: 0.1891\n",
            "Epoch 77/100\n",
            "1156/1156 [==============================] - 6s 5ms/step - loss: 1.2990e-04 - val_loss: 0.2007\n",
            "Epoch 78/100\n",
            "1156/1156 [==============================] - 6s 5ms/step - loss: 2.7356e-04 - val_loss: 0.2075\n",
            "Epoch 79/100\n",
            "1156/1156 [==============================] - 6s 5ms/step - loss: 3.9988e-04 - val_loss: 0.1899\n",
            "Epoch 80/100\n",
            "1156/1156 [==============================] - 6s 5ms/step - loss: 1.5032e-04 - val_loss: 0.2619\n",
            "Epoch 81/100\n",
            "1156/1156 [==============================] - 6s 5ms/step - loss: 3.9242e-04 - val_loss: 0.1932\n",
            "Epoch 82/100\n",
            "1156/1156 [==============================] - 6s 5ms/step - loss: 4.8206e-04 - val_loss: 0.2095\n",
            "Epoch 83/100\n",
            "1156/1156 [==============================] - 6s 5ms/step - loss: 1.1148e-04 - val_loss: 0.2253\n",
            "Epoch 84/100\n",
            "1156/1156 [==============================] - 6s 5ms/step - loss: 1.1239e-04 - val_loss: 0.2357\n",
            "Epoch 85/100\n",
            "1156/1156 [==============================] - 6s 5ms/step - loss: 1.1143e-04 - val_loss: 0.2256\n",
            "Epoch 86/100\n",
            "1156/1156 [==============================] - 6s 5ms/step - loss: 9.0604e-05 - val_loss: 0.2889\n",
            "Epoch 87/100\n",
            "1156/1156 [==============================] - 6s 5ms/step - loss: 1.0190e-04 - val_loss: 0.3233\n",
            "Epoch 88/100\n",
            "1156/1156 [==============================] - 6s 5ms/step - loss: 1.1593e-04 - val_loss: 0.3752\n",
            "Epoch 89/100\n",
            "1156/1156 [==============================] - 6s 5ms/step - loss: 1.1061e-04 - val_loss: 0.3196\n",
            "Epoch 90/100\n",
            "1156/1156 [==============================] - 6s 5ms/step - loss: 7.8968e-05 - val_loss: 0.3321\n",
            "Epoch 91/100\n",
            "1156/1156 [==============================] - 6s 5ms/step - loss: 4.8053e-04 - val_loss: 0.2525\n",
            "Epoch 92/100\n",
            "1156/1156 [==============================] - 6s 5ms/step - loss: 2.6929e-04 - val_loss: 0.2800\n",
            "Epoch 93/100\n",
            "1156/1156 [==============================] - 6s 5ms/step - loss: 2.5733e-04 - val_loss: 0.2440\n",
            "Epoch 94/100\n",
            "1156/1156 [==============================] - 6s 5ms/step - loss: 2.5821e-04 - val_loss: 0.2426\n",
            "Epoch 95/100\n",
            "1156/1156 [==============================] - 6s 5ms/step - loss: 1.5921e-04 - val_loss: 0.2366\n",
            "Epoch 96/100\n",
            "1156/1156 [==============================] - 6s 5ms/step - loss: 1.7722e-04 - val_loss: 0.2511\n",
            "Epoch 97/100\n",
            "1156/1156 [==============================] - 6s 5ms/step - loss: 1.4875e-04 - val_loss: 0.2646\n",
            "Epoch 98/100\n",
            "1156/1156 [==============================] - 6s 5ms/step - loss: 1.8423e-04 - val_loss: 0.2487\n",
            "Epoch 99/100\n",
            "1156/1156 [==============================] - 6s 5ms/step - loss: 1.8424e-04 - val_loss: 0.2269\n",
            "Epoch 100/100\n",
            "1156/1156 [==============================] - 6s 5ms/step - loss: 1.1646e-04 - val_loss: 0.2600\n"
          ]
        }
      ]
    },
    {
      "cell_type": "markdown",
      "source": [
        "## Model Performance\n",
        "Assessed the model on various accuracy metrics to determine validity of model, including accuracy, precision, recall, F1 Score, and ROC AUC.\n",
        "\n",
        "\n",
        "\n",
        "\n",
        "\n",
        "\n"
      ],
      "metadata": {
        "id": "I0ZhQmsXdjse"
      }
    },
    {
      "cell_type": "code",
      "source": [
        "model.summary()"
      ],
      "metadata": {
        "id": "GXVO4PSxQHQ5",
        "colab": {
          "base_uri": "https://localhost:8080/"
        },
        "outputId": "8cb2934e-64f8-488c-f28a-30230120e6f5"
      },
      "execution_count": null,
      "outputs": [
        {
          "output_type": "stream",
          "name": "stdout",
          "text": [
            "Model: \"sequential\"\n",
            "_________________________________________________________________\n",
            " Layer (type)                Output Shape              Param #   \n",
            "=================================================================\n",
            " flatten (Flatten)           (None, 5600)              0         \n",
            "                                                                 \n",
            " dense (Dense)               (None, 256)               1433856   \n",
            "                                                                 \n",
            " dense_1 (Dense)             (None, 128)               32896     \n",
            "                                                                 \n",
            " dense_2 (Dense)             (None, 36)                4644      \n",
            "                                                                 \n",
            " dense_3 (Dense)             (None, 16)                592       \n",
            "                                                                 \n",
            " dense_4 (Dense)             (None, 1)                 17        \n",
            "                                                                 \n",
            "=================================================================\n",
            "Total params: 1,472,005\n",
            "Trainable params: 1,472,005\n",
            "Non-trainable params: 0\n",
            "_________________________________________________________________\n"
          ]
        }
      ]
    },
    {
      "cell_type": "markdown",
      "source": [
        "### Loss"
      ],
      "metadata": {
        "id": "ljTw7S12N9ck"
      }
    },
    {
      "cell_type": "code",
      "source": [
        "# Calculating the model loss (training and validation).\n",
        "loss = history.history['loss']\n",
        "val_loss = history.history['val_loss']\n",
        "epochs = range(1, len(loss) + 1)\n",
        "\n",
        "# Creating the DataFrame.\n",
        "m1_data = {'Epoch': epochs, 'Loss': loss, 'Validation Loss': val_loss}\n",
        "m1_data = pd.DataFrame(m1_data)\n",
        "display(m1_data)\n",
        "\n",
        "# Writing the DataFrame into a CSV file.\n",
        "m1_data.to_csv('/content/drive/MyDrive/Results/Model_1/model_1_loss.csv', index = False)"
      ],
      "metadata": {
        "id": "hRFfRiCoMXaL",
        "colab": {
          "base_uri": "https://localhost:8080/",
          "height": 423
        },
        "outputId": "ef113e88-5d4f-4e0c-d19d-9e60f3fdd04f"
      },
      "execution_count": null,
      "outputs": [
        {
          "output_type": "display_data",
          "data": {
            "text/plain": [
              "    Epoch      Loss  Validation Loss\n",
              "0       1  0.060300         0.052516\n",
              "1       2  0.041648         0.049970\n",
              "2       3  0.030931         0.055286\n",
              "3       4  0.018944         0.063143\n",
              "4       5  0.009986         0.077234\n",
              "..    ...       ...              ...\n",
              "95     96  0.000177         0.251141\n",
              "96     97  0.000149         0.264560\n",
              "97     98  0.000184         0.248674\n",
              "98     99  0.000184         0.226864\n",
              "99    100  0.000116         0.259986\n",
              "\n",
              "[100 rows x 3 columns]"
            ],
            "text/html": [
              "\n",
              "  <div id=\"df-ce00b964-a575-48c0-b0fa-a9bac99eb1ae\">\n",
              "    <div class=\"colab-df-container\">\n",
              "      <div>\n",
              "<style scoped>\n",
              "    .dataframe tbody tr th:only-of-type {\n",
              "        vertical-align: middle;\n",
              "    }\n",
              "\n",
              "    .dataframe tbody tr th {\n",
              "        vertical-align: top;\n",
              "    }\n",
              "\n",
              "    .dataframe thead th {\n",
              "        text-align: right;\n",
              "    }\n",
              "</style>\n",
              "<table border=\"1\" class=\"dataframe\">\n",
              "  <thead>\n",
              "    <tr style=\"text-align: right;\">\n",
              "      <th></th>\n",
              "      <th>Epoch</th>\n",
              "      <th>Loss</th>\n",
              "      <th>Validation Loss</th>\n",
              "    </tr>\n",
              "  </thead>\n",
              "  <tbody>\n",
              "    <tr>\n",
              "      <th>0</th>\n",
              "      <td>1</td>\n",
              "      <td>0.060300</td>\n",
              "      <td>0.052516</td>\n",
              "    </tr>\n",
              "    <tr>\n",
              "      <th>1</th>\n",
              "      <td>2</td>\n",
              "      <td>0.041648</td>\n",
              "      <td>0.049970</td>\n",
              "    </tr>\n",
              "    <tr>\n",
              "      <th>2</th>\n",
              "      <td>3</td>\n",
              "      <td>0.030931</td>\n",
              "      <td>0.055286</td>\n",
              "    </tr>\n",
              "    <tr>\n",
              "      <th>3</th>\n",
              "      <td>4</td>\n",
              "      <td>0.018944</td>\n",
              "      <td>0.063143</td>\n",
              "    </tr>\n",
              "    <tr>\n",
              "      <th>4</th>\n",
              "      <td>5</td>\n",
              "      <td>0.009986</td>\n",
              "      <td>0.077234</td>\n",
              "    </tr>\n",
              "    <tr>\n",
              "      <th>...</th>\n",
              "      <td>...</td>\n",
              "      <td>...</td>\n",
              "      <td>...</td>\n",
              "    </tr>\n",
              "    <tr>\n",
              "      <th>95</th>\n",
              "      <td>96</td>\n",
              "      <td>0.000177</td>\n",
              "      <td>0.251141</td>\n",
              "    </tr>\n",
              "    <tr>\n",
              "      <th>96</th>\n",
              "      <td>97</td>\n",
              "      <td>0.000149</td>\n",
              "      <td>0.264560</td>\n",
              "    </tr>\n",
              "    <tr>\n",
              "      <th>97</th>\n",
              "      <td>98</td>\n",
              "      <td>0.000184</td>\n",
              "      <td>0.248674</td>\n",
              "    </tr>\n",
              "    <tr>\n",
              "      <th>98</th>\n",
              "      <td>99</td>\n",
              "      <td>0.000184</td>\n",
              "      <td>0.226864</td>\n",
              "    </tr>\n",
              "    <tr>\n",
              "      <th>99</th>\n",
              "      <td>100</td>\n",
              "      <td>0.000116</td>\n",
              "      <td>0.259986</td>\n",
              "    </tr>\n",
              "  </tbody>\n",
              "</table>\n",
              "<p>100 rows × 3 columns</p>\n",
              "</div>\n",
              "      <button class=\"colab-df-convert\" onclick=\"convertToInteractive('df-ce00b964-a575-48c0-b0fa-a9bac99eb1ae')\"\n",
              "              title=\"Convert this dataframe to an interactive table.\"\n",
              "              style=\"display:none;\">\n",
              "        \n",
              "  <svg xmlns=\"http://www.w3.org/2000/svg\" height=\"24px\"viewBox=\"0 0 24 24\"\n",
              "       width=\"24px\">\n",
              "    <path d=\"M0 0h24v24H0V0z\" fill=\"none\"/>\n",
              "    <path d=\"M18.56 5.44l.94 2.06.94-2.06 2.06-.94-2.06-.94-.94-2.06-.94 2.06-2.06.94zm-11 1L8.5 8.5l.94-2.06 2.06-.94-2.06-.94L8.5 2.5l-.94 2.06-2.06.94zm10 10l.94 2.06.94-2.06 2.06-.94-2.06-.94-.94-2.06-.94 2.06-2.06.94z\"/><path d=\"M17.41 7.96l-1.37-1.37c-.4-.4-.92-.59-1.43-.59-.52 0-1.04.2-1.43.59L10.3 9.45l-7.72 7.72c-.78.78-.78 2.05 0 2.83L4 21.41c.39.39.9.59 1.41.59.51 0 1.02-.2 1.41-.59l7.78-7.78 2.81-2.81c.8-.78.8-2.07 0-2.86zM5.41 20L4 18.59l7.72-7.72 1.47 1.35L5.41 20z\"/>\n",
              "  </svg>\n",
              "      </button>\n",
              "      \n",
              "  <style>\n",
              "    .colab-df-container {\n",
              "      display:flex;\n",
              "      flex-wrap:wrap;\n",
              "      gap: 12px;\n",
              "    }\n",
              "\n",
              "    .colab-df-convert {\n",
              "      background-color: #E8F0FE;\n",
              "      border: none;\n",
              "      border-radius: 50%;\n",
              "      cursor: pointer;\n",
              "      display: none;\n",
              "      fill: #1967D2;\n",
              "      height: 32px;\n",
              "      padding: 0 0 0 0;\n",
              "      width: 32px;\n",
              "    }\n",
              "\n",
              "    .colab-df-convert:hover {\n",
              "      background-color: #E2EBFA;\n",
              "      box-shadow: 0px 1px 2px rgba(60, 64, 67, 0.3), 0px 1px 3px 1px rgba(60, 64, 67, 0.15);\n",
              "      fill: #174EA6;\n",
              "    }\n",
              "\n",
              "    [theme=dark] .colab-df-convert {\n",
              "      background-color: #3B4455;\n",
              "      fill: #D2E3FC;\n",
              "    }\n",
              "\n",
              "    [theme=dark] .colab-df-convert:hover {\n",
              "      background-color: #434B5C;\n",
              "      box-shadow: 0px 1px 3px 1px rgba(0, 0, 0, 0.15);\n",
              "      filter: drop-shadow(0px 1px 2px rgba(0, 0, 0, 0.3));\n",
              "      fill: #FFFFFF;\n",
              "    }\n",
              "  </style>\n",
              "\n",
              "      <script>\n",
              "        const buttonEl =\n",
              "          document.querySelector('#df-ce00b964-a575-48c0-b0fa-a9bac99eb1ae button.colab-df-convert');\n",
              "        buttonEl.style.display =\n",
              "          google.colab.kernel.accessAllowed ? 'block' : 'none';\n",
              "\n",
              "        async function convertToInteractive(key) {\n",
              "          const element = document.querySelector('#df-ce00b964-a575-48c0-b0fa-a9bac99eb1ae');\n",
              "          const dataTable =\n",
              "            await google.colab.kernel.invokeFunction('convertToInteractive',\n",
              "                                                     [key], {});\n",
              "          if (!dataTable) return;\n",
              "\n",
              "          const docLinkHtml = 'Like what you see? Visit the ' +\n",
              "            '<a target=\"_blank\" href=https://colab.research.google.com/notebooks/data_table.ipynb>data table notebook</a>'\n",
              "            + ' to learn more about interactive tables.';\n",
              "          element.innerHTML = '';\n",
              "          dataTable['output_type'] = 'display_data';\n",
              "          await google.colab.output.renderOutput(dataTable, element);\n",
              "          const docLink = document.createElement('div');\n",
              "          docLink.innerHTML = docLinkHtml;\n",
              "          element.appendChild(docLink);\n",
              "        }\n",
              "      </script>\n",
              "    </div>\n",
              "  </div>\n",
              "  "
            ]
          },
          "metadata": {}
        }
      ]
    },
    {
      "cell_type": "code",
      "source": [
        "# Plotting the model loss.\n",
        "plt.plot(history.history['loss'])\n",
        "plt.plot(history.history['val_loss'])\n",
        "plt.title('Model Loss')\n",
        "plt.xlabel('Epochs')\n",
        "plt.ylabel('Loss')\n",
        "plt.legend(['Train', 'Validation'], loc = 'lower right')\n",
        "plt.show()"
      ],
      "metadata": {
        "id": "jYA5d1ZoQu1t",
        "colab": {
          "base_uri": "https://localhost:8080/",
          "height": 295
        },
        "outputId": "79044500-46ec-45a3-b1f7-8c71c04f6e35"
      },
      "execution_count": null,
      "outputs": [
        {
          "output_type": "display_data",
          "data": {
            "text/plain": [
              "<Figure size 432x288 with 1 Axes>"
            ],
            "image/png": "[encoded data removed]"
          },
          "metadata": {
            "needs_background": "light"
          }
        }
      ]
    },
    {
      "cell_type": "code",
      "source": [
        "plt.savefig('/content/drive/MyDrive/Results/Model_1/model_1_loss.png')"
      ],
      "metadata": {
        "id": "YjguhkuRiqlH",
        "colab": {
          "base_uri": "https://localhost:8080/",
          "height": 34
        },
        "outputId": "b0d3384f-043a-43fb-a53e-9337273f2477"
      },
      "execution_count": null,
      "outputs": [
        {
          "output_type": "display_data",
          "data": {
            "text/plain": [
              "<Figure size 432x288 with 0 Axes>"
            ]
          },
          "metadata": {}
        }
      ]
    },
    {
      "cell_type": "markdown",
      "source": [
        "### Scores"
      ],
      "metadata": {
        "id": "AVW-rPxViDuc"
      }
    },
    {
      "cell_type": "code",
      "source": [
        "# Make predictions on the test data\n",
        "y_pred = model.predict(x_test)\n",
        "y_pred = np.round(y_pred) # Round the predictions to binary values"
      ],
      "metadata": {
        "id": "uPJsOEGrehr7",
        "colab": {
          "base_uri": "https://localhost:8080/"
        },
        "outputId": "6d39e85f-1a5f-4202-bc96-1a59299da929"
      },
      "execution_count": null,
      "outputs": [
        {
          "output_type": "stream",
          "name": "stdout",
          "text": [
            "903/903 [==============================] - 2s 2ms/step\n"
          ]
        }
      ]
    },
    {
      "cell_type": "code",
      "source": [
        "# Calculate the scores\n",
        "acc = accuracy_score(y_test, y_pred)\n",
        "precision = precision_score(y_test, y_pred)\n",
        "recall = recall_score(y_test, y_pred)\n",
        "f1 = f1_score(y_test, y_pred)\n",
        "roc_auc = roc_auc_score(y_test, y_pred)\n",
        "\n",
        "# Write the scores to a csv file\n",
        "with open('/content/drive/MyDrive/Results/Model_1/model_1_scores.csv', mode='w') as file:\n",
        "    writer = csv.writer(file)\n",
        "    writer.writerow(['Metric', 'Score'])\n",
        "    writer.writerow(['Accuracy', acc])\n",
        "    writer.writerow(['Precision', precision])\n",
        "    writer.writerow(['Recall', recall])\n",
        "    writer.writerow(['F1 Score', f1])\n",
        "    writer.writerow(['ROC AUC', roc_auc])"
      ],
      "metadata": {
        "id": "lz_61BqUhG9M"
      },
      "execution_count": null,
      "outputs": []
    },
    {
      "cell_type": "code",
      "source": [
        "print(\"Accuracy: \", acc)\n",
        "print(\"Precision: \", precision)\n",
        "print(\"Recall: \", recall)\n",
        "print(\"F1 Score: \", f1)\n",
        "print(\"ROC AUC: \", roc_auc)"
      ],
      "metadata": {
        "id": "503pcoX_ib8d",
        "colab": {
          "base_uri": "https://localhost:8080/"
        },
        "outputId": "899c3979-d411-4530-fa1a-a787550207e7"
      },
      "execution_count": null,
      "outputs": [
        {
          "output_type": "stream",
          "name": "stdout",
          "text": [
            "Accuracy:  0.9870170336518488\n",
            "Precision:  0.988148418269669\n",
            "Recall:  0.977896066402021\n",
            "F1 Score:  0.9829955108148551\n",
            "ROC AUC:  0.9852963478077521\n"
          ]
        }
      ]
    },
    {
      "cell_type": "markdown",
      "source": [
        "### ROC Curve"
      ],
      "metadata": {
        "id": "NaebycVEilHQ"
      }
    },
    {
      "cell_type": "code",
      "source": [
        "# Plot the ROC curve\n",
        "fpr, tpr, thresholds = roc_curve(y_test, y_pred)\n",
        "plt.plot(fpr, tpr, label='ROC curve (area = %0.2f)' % roc_auc)\n",
        "plt.plot([0, 1], [0, 1], 'k--')  # random predictions curve\n",
        "plt.xlim([0.0, 1.0])\n",
        "plt.ylim([0.0, 1.05])\n",
        "plt.xlabel('False Positive Rate or (1 - Specifity)')\n",
        "plt.ylabel('True Positive Rate or (Sensitivity)')\n",
        "plt.title('Receiver Operating Characteristic')\n",
        "plt.legend(loc = \"lower right\")\n",
        "plt.show()"
      ],
      "metadata": {
        "id": "Q-HED4_Zh0Od",
        "colab": {
          "base_uri": "https://localhost:8080/",
          "height": 295
        },
        "outputId": "99531ab4-195a-414e-a017-101c6c838527"
      },
      "execution_count": null,
      "outputs": [
        {
          "output_type": "display_data",
          "data": {
            "text/plain": [
              "<Figure size 432x288 with 1 Axes>"
            ],
            "image/png": "[encoded data removed]"
          },
          "metadata": {
            "needs_background": "light"
          }
        }
      ]
    },
    {
      "cell_type": "code",
      "source": [
        "# Save the ROC curve as a PNG file\n",
        "plt.savefig('roc_curve.png')"
      ],
      "metadata": {
        "id": "3wGewizrh5YN",
        "colab": {
          "base_uri": "https://localhost:8080/",
          "height": 34
        },
        "outputId": "3e6d6bcf-70f5-4f5d-c581-628767c63135"
      },
      "execution_count": null,
      "outputs": [
        {
          "output_type": "display_data",
          "data": {
            "text/plain": [
              "<Figure size 432x288 with 0 Axes>"
            ]
          },
          "metadata": {}
        }
      ]
    },
    {
      "cell_type": "code",
      "source": [
        "plt.savefig('/content/drive/MyDrive/Results/Model_1/model_1_roc_curve.png')"
      ],
      "metadata": {
        "id": "wQXl1563i7me",
        "colab": {
          "base_uri": "https://localhost:8080/",
          "height": 34
        },
        "outputId": "4f8fc644-7afa-408e-aa2d-f7fd04539b4c"
      },
      "execution_count": null,
      "outputs": [
        {
          "output_type": "display_data",
          "data": {
            "text/plain": [
              "<Figure size 432x288 with 0 Axes>"
            ]
          },
          "metadata": {}
        }
      ]
    }
  ]
}